{
  "cells": [
    {
      "cell_type": "markdown",
      "metadata": {
        "id": "S2L6g3ZYSTEV"
      },
      "source": [
        "# Импорты"
      ]
    },
    {
      "cell_type": "code",
      "execution_count": null,
      "metadata": {
        "colab": {
          "base_uri": "https://localhost:8080/"
        },
        "id": "-wgRt_pyb0bh",
        "outputId": "55a4fb85-70c2-404f-bee3-e39b72b9a45d"
      },
      "outputs": [
        {
          "name": "stdout",
          "output_type": "stream",
          "text": [
            "Looking in indexes: https://pypi.org/simple, https://us-python.pkg.dev/colab-wheels/public/simple/\n",
            "Collecting pymorphy2\n",
            "  Downloading pymorphy2-0.9.1-py3-none-any.whl (55 kB)\n",
            "\u001b[2K     \u001b[90m━━━━━━━━━━━━━━━━━━━━━━━━━━━━━━━━━━━━━━━━\u001b[0m \u001b[32m55.5/55.5 KB\u001b[0m \u001b[31m3.5 MB/s\u001b[0m eta \u001b[36m0:00:00\u001b[0m\n",
            "\u001b[?25hCollecting pymorphy2-dicts-ru<3.0,>=2.4\n",
            "  Downloading pymorphy2_dicts_ru-2.4.417127.4579844-py2.py3-none-any.whl (8.2 MB)\n",
            "\u001b[2K     \u001b[90m━━━━━━━━━━━━━━━━━━━━━━━━━━━━━━━━━━━━━━━━\u001b[0m \u001b[32m8.2/8.2 MB\u001b[0m \u001b[31m48.8 MB/s\u001b[0m eta \u001b[36m0:00:00\u001b[0m\n",
            "\u001b[?25hCollecting docopt>=0.6\n",
            "  Downloading docopt-0.6.2.tar.gz (25 kB)\n",
            "  Preparing metadata (setup.py) ... \u001b[?25l\u001b[?25hdone\n",
            "Collecting dawg-python>=0.7.1\n",
            "  Downloading DAWG_Python-0.7.2-py2.py3-none-any.whl (11 kB)\n",
            "Building wheels for collected packages: docopt\n",
            "  Building wheel for docopt (setup.py) ... \u001b[?25l\u001b[?25hdone\n",
            "  Created wheel for docopt: filename=docopt-0.6.2-py2.py3-none-any.whl size=13723 sha256=0bbfb2aaf2fa3b78e68af0b35bed39b09a67f0b05836ba4f72e4111de76817e6\n",
            "  Stored in directory: /root/.cache/pip/wheels/56/ea/58/ead137b087d9e326852a851351d1debf4ada529b6ac0ec4e8c\n",
            "Successfully built docopt\n",
            "Installing collected packages: pymorphy2-dicts-ru, docopt, dawg-python, pymorphy2\n",
            "Successfully installed dawg-python-0.7.2 docopt-0.6.2 pymorphy2-0.9.1 pymorphy2-dicts-ru-2.4.417127.4579844\n"
          ]
        }
      ],
      "source": [
        "!pip install pymorphy2"
      ]
    },
    {
      "cell_type": "code",
      "execution_count": null,
      "metadata": {
        "colab": {
          "base_uri": "https://localhost:8080/"
        },
        "id": "_5B1XT39cDJq",
        "outputId": "1bc9187e-bf00-4dcf-f314-9688ffc43f6f"
      },
      "outputs": [
        {
          "name": "stdout",
          "output_type": "stream",
          "text": [
            "Looking in indexes: https://pypi.org/simple, https://us-python.pkg.dev/colab-wheels/public/simple/\n",
            "Collecting natasha\n",
            "  Downloading natasha-1.5.0-py3-none-any.whl (34.4 MB)\n",
            "\u001b[2K     \u001b[90m━━━━━━━━━━━━━━━━━━━━━━━━━━━━━━━━━━━━━━━━\u001b[0m \u001b[32m34.4/34.4 MB\u001b[0m \u001b[31m36.5 MB/s\u001b[0m eta \u001b[36m0:00:00\u001b[0m\n",
            "\u001b[?25hRequirement already satisfied: pymorphy2 in /usr/local/lib/python3.8/dist-packages (from natasha) (0.9.1)\n",
            "Collecting ipymarkup>=0.8.0\n",
            "  Downloading ipymarkup-0.9.0-py3-none-any.whl (14 kB)\n",
            "Collecting yargy>=0.14.0\n",
            "  Downloading yargy-0.15.1-py3-none-any.whl (33 kB)\n",
            "Collecting navec>=0.9.0\n",
            "  Downloading navec-0.10.0-py3-none-any.whl (23 kB)\n",
            "Collecting razdel>=0.5.0\n",
            "  Downloading razdel-0.5.0-py3-none-any.whl (21 kB)\n",
            "Collecting slovnet>=0.6.0\n",
            "  Downloading slovnet-0.6.0-py3-none-any.whl (46 kB)\n",
            "\u001b[2K     \u001b[90m━━━━━━━━━━━━━━━━━━━━━━━━━━━━━━━━━━━━━━━━\u001b[0m \u001b[32m46.7/46.7 KB\u001b[0m \u001b[31m6.6 MB/s\u001b[0m eta \u001b[36m0:00:00\u001b[0m\n",
            "\u001b[?25hCollecting intervaltree>=3\n",
            "  Downloading intervaltree-3.1.0.tar.gz (32 kB)\n",
            "  Preparing metadata (setup.py) ... \u001b[?25l\u001b[?25hdone\n",
            "Requirement already satisfied: numpy in /usr/local/lib/python3.8/dist-packages (from navec>=0.9.0->natasha) (1.22.4)\n",
            "Requirement already satisfied: docopt>=0.6 in /usr/local/lib/python3.8/dist-packages (from pymorphy2->natasha) (0.6.2)\n",
            "Requirement already satisfied: dawg-python>=0.7.1 in /usr/local/lib/python3.8/dist-packages (from pymorphy2->natasha) (0.7.2)\n",
            "Requirement already satisfied: pymorphy2-dicts-ru<3.0,>=2.4 in /usr/local/lib/python3.8/dist-packages (from pymorphy2->natasha) (2.4.417127.4579844)\n",
            "Requirement already satisfied: sortedcontainers<3.0,>=2.0 in /usr/local/lib/python3.8/dist-packages (from intervaltree>=3->ipymarkup>=0.8.0->natasha) (2.4.0)\n",
            "Building wheels for collected packages: intervaltree\n",
            "  Building wheel for intervaltree (setup.py) ... \u001b[?25l\u001b[?25hdone\n",
            "  Created wheel for intervaltree: filename=intervaltree-3.1.0-py2.py3-none-any.whl size=26118 sha256=ef940f6bf148d71a05991780f9060a9ed52c74644f40b9095725d065a5fd0b32\n",
            "  Stored in directory: /root/.cache/pip/wheels/45/23/de/5789a92962483fd33cb06674792b9697c1b3766d7c7742830e\n",
            "Successfully built intervaltree\n",
            "Installing collected packages: razdel, navec, intervaltree, yargy, slovnet, ipymarkup, natasha\n",
            "Successfully installed intervaltree-3.1.0 ipymarkup-0.9.0 natasha-1.5.0 navec-0.10.0 razdel-0.5.0 slovnet-0.6.0 yargy-0.15.1\n"
          ]
        }
      ],
      "source": [
        "!pip install natasha"
      ]
    },
    {
      "cell_type": "code",
      "execution_count": null,
      "metadata": {
        "colab": {
          "base_uri": "https://localhost:8080/"
        },
        "id": "yoUrY2mBdkmV",
        "outputId": "6280675b-8a2f-47ae-b145-5342c4bea835"
      },
      "outputs": [
        {
          "name": "stdout",
          "output_type": "stream",
          "text": [
            "Looking in indexes: https://pypi.org/simple, https://us-python.pkg.dev/colab-wheels/public/simple/\n",
            "Collecting polars\n",
            "  Downloading polars-0.16.11-cp37-abi3-manylinux_2_17_x86_64.manylinux2014_x86_64.whl (15.7 MB)\n",
            "\u001b[2K     \u001b[90m━━━━━━━━━━━━━━━━━━━━━━━━━━━━━━━━━━━━━━━━\u001b[0m \u001b[32m15.7/15.7 MB\u001b[0m \u001b[31m75.0 MB/s\u001b[0m eta \u001b[36m0:00:00\u001b[0m\n",
            "\u001b[?25hRequirement already satisfied: typing_extensions>=4.0.1 in /usr/local/lib/python3.8/dist-packages (from polars) (4.5.0)\n",
            "Installing collected packages: polars\n",
            "Successfully installed polars-0.16.11\n"
          ]
        }
      ],
      "source": [
        "!pip install polars"
      ]
    },
    {
      "cell_type": "code",
      "execution_count": null,
      "metadata": {
        "colab": {
          "base_uri": "https://localhost:8080/"
        },
        "id": "tZOxM6dXb8dj",
        "outputId": "54b6aa0a-e547-4204-d89a-af96fb37bfb0"
      },
      "outputs": [
        {
          "name": "stderr",
          "output_type": "stream",
          "text": [
            "[nltk_data] Downloading package stopwords to /root/nltk_data...\n",
            "[nltk_data]   Unzipping corpora/stopwords.zip.\n",
            "[nltk_data] Downloading package punkt to /root/nltk_data...\n",
            "[nltk_data]   Unzipping tokenizers/punkt.zip.\n",
            "[nltk_data] Downloading package wordnet to /root/nltk_data...\n",
            "[nltk_data] Downloading package omw-1.4 to /root/nltk_data...\n"
          ]
        }
      ],
      "source": [
        "import pandas as pd\n",
        "\n",
        "from sklearn.feature_extraction.text import TfidfVectorizer\n",
        "from sklearn.linear_model import Lasso\n",
        "\n",
        "import re\n",
        "import nltk\n",
        "nltk.download('stopwords')\n",
        "nltk.download('punkt')\n",
        "nltk.download('wordnet')\n",
        "nltk.download('omw-1.4')\n",
        "\n",
        "from nltk.tokenize import word_tokenize\n",
        "from nltk.corpus import stopwords\n",
        "from pymorphy2 import MorphAnalyzer\n",
        "\n",
        "from gensim.models import Word2Vec\n",
        "\n",
        "from tqdm import tqdm\n",
        "import numpy as np\n",
        "import seaborn as sns\n",
        "import matplotlib.pyplot as plt"
      ]
    },
    {
      "cell_type": "code",
      "execution_count": null,
      "metadata": {
        "colab": {
          "base_uri": "https://localhost:8080/"
        },
        "id": "WdmtoYUkcxxI",
        "outputId": "40d1ab4a-412b-4eee-a014-3739a8ae1516"
      },
      "outputs": [
        {
          "name": "stdout",
          "output_type": "stream",
          "text": [
            "--2023-03-08 12:53:52--  https://storage.yandexcloud.net/natasha-navec/packs/navec_news_v1_1B_250K_300d_100q.tar\n",
            "Resolving storage.yandexcloud.net (storage.yandexcloud.net)... 213.180.193.243, 2a02:6b8::1d9\n",
            "Connecting to storage.yandexcloud.net (storage.yandexcloud.net)|213.180.193.243|:443... connected.\n",
            "HTTP request sent, awaiting response... 200 OK\n",
            "Length: 26634240 (25M) [application/x-tar]\n",
            "Saving to: ‘navec_news_v1_1B_250K_300d_100q.tar’\n",
            "\n",
            "navec_news_v1_1B_25 100%[===================>]  25.40M  9.68MB/s    in 2.6s    \n",
            "\n",
            "2023-03-08 12:53:56 (9.68 MB/s) - ‘navec_news_v1_1B_250K_300d_100q.tar’ saved [26634240/26634240]\n",
            "\n"
          ]
        }
      ],
      "source": [
        "!wget https://storage.yandexcloud.net/natasha-navec/packs/navec_news_v1_1B_250K_300d_100q.tar"
      ]
    },
    {
      "cell_type": "code",
      "execution_count": null,
      "metadata": {
        "id": "IrZAoV-fcTNa"
      },
      "outputs": [],
      "source": [
        "from navec import Navec\n",
        "path = 'navec_news_v1_1B_250K_300d_100q.tar'\n",
        "navec = Navec.load(path)"
      ]
    },
    {
      "cell_type": "code",
      "execution_count": null,
      "metadata": {
        "id": "MQFvmS63dGOs"
      },
      "outputs": [],
      "source": [
        "plt.rcParams[\"figure.figsize\"] = [10, 6]"
      ]
    },
    {
      "cell_type": "markdown",
      "metadata": {
        "id": "ZgWipFIgdJf8"
      },
      "source": [
        "# Загрузка данных"
      ]
    },
    {
      "cell_type": "code",
      "execution_count": null,
      "metadata": {
        "id": "iLHGGiImL49w"
      },
      "outputs": [],
      "source": [
        "import requests\n",
        "from urllib.parse import urlencode"
      ]
    },
    {
      "cell_type": "code",
      "execution_count": null,
      "metadata": {
        "id": "llXGkyye8l5g"
      },
      "outputs": [],
      "source": [
        "base_url = 'https://cloud-api.yandex.net/v1/disk/public/resources/download?'\n",
        "public_key = 'https://disk.yandex.ru/d/8fgGb-yo_EX-lg'  \n",
        "\n",
        "# Получаем загрузочную ссылку\n",
        "final_url = base_url + urlencode(dict(public_key=public_key))\n",
        "response = requests.get(final_url)\n",
        "download_url = response.json()['href']\n",
        "\n",
        "# Загружаем файл и сохраняем его\n",
        "download_response = requests.get(download_url) \n",
        "df_test = pd.read_csv(download_url, sep=',') \n",
        "\n",
        "base_url = 'https://cloud-api.yandex.net/v1/disk/public/resources/download?'\n",
        "public_key = 'https://disk.yandex.ru/d/qt3hhcAnKQBcXA'  \n",
        "\n",
        "# Получаем загрузочную ссылку\n",
        "final_url = base_url + urlencode(dict(public_key=public_key))\n",
        "response = requests.get(final_url)\n",
        "download_url = response.json()['href']\n",
        "\n",
        "# Загружаем файл и сохраняем его\n",
        "download_response = requests.get(download_url) \n",
        "df_train = pd.read_csv(download_url, sep=',')"
      ]
    },
    {
      "cell_type": "code",
      "execution_count": null,
      "metadata": {
        "colab": {
          "base_uri": "https://localhost:8080/",
          "height": 327
        },
        "id": "_kXfXySRdyA5",
        "outputId": "20b13c96-0717-4aa8-c1ca-84c214692b8a"
      },
      "outputs": [
        {
          "data": {
            "text/html": [
              "\n",
              "  <div id=\"df-23a43ac1-2031-4a1c-b4da-881003171e12\">\n",
              "    <div class=\"colab-df-container\">\n",
              "      <div>\n",
              "<style scoped>\n",
              "    .dataframe tbody tr th:only-of-type {\n",
              "        vertical-align: middle;\n",
              "    }\n",
              "\n",
              "    .dataframe tbody tr th {\n",
              "        vertical-align: top;\n",
              "    }\n",
              "\n",
              "    .dataframe thead th {\n",
              "        text-align: right;\n",
              "    }\n",
              "</style>\n",
              "<table border=\"1\" class=\"dataframe\">\n",
              "  <thead>\n",
              "    <tr style=\"text-align: right;\">\n",
              "      <th></th>\n",
              "      <th>name</th>\n",
              "      <th>experience</th>\n",
              "      <th>schedule</th>\n",
              "      <th>employment</th>\n",
              "      <th>description</th>\n",
              "      <th>key_skills</th>\n",
              "      <th>salary</th>\n",
              "    </tr>\n",
              "  </thead>\n",
              "  <tbody>\n",
              "    <tr>\n",
              "      <th>0</th>\n",
              "      <td>Водитель-экспедитор</td>\n",
              "      <td>От 3 до 6 лет</td>\n",
              "      <td>Полный день</td>\n",
              "      <td>Полная занятость</td>\n",
              "      <td>Водитель-экспедитор категории В,С (а\\м ГАЗЕЛЬ ...</td>\n",
              "      <td>[]</td>\n",
              "      <td>42500.0</td>\n",
              "    </tr>\n",
              "    <tr>\n",
              "      <th>1</th>\n",
              "      <td>Кладовщик-комплектовщик/оператор 1С</td>\n",
              "      <td>От 1 года до 3 лет</td>\n",
              "      <td>Полный день</td>\n",
              "      <td>Полная занятость</td>\n",
              "      <td>Обязанности:   Списывание материалов в произво...</td>\n",
              "      <td>['знание пк', 'работа в 1С', 'Работа в команде...</td>\n",
              "      <td>50000.0</td>\n",
              "    </tr>\n",
              "    <tr>\n",
              "      <th>2</th>\n",
              "      <td>Продавец магазина \"Магнит\" (Кировский р-он, В....</td>\n",
              "      <td>Нет опыта</td>\n",
              "      <td>Сменный график</td>\n",
              "      <td>Полная занятость</td>\n",
              "      <td>В крупнейшую Федеральную сеть магазинов \"Магни...</td>\n",
              "      <td>[]</td>\n",
              "      <td>31500.0</td>\n",
              "    </tr>\n",
              "    <tr>\n",
              "      <th>3</th>\n",
              "      <td>Администратор магазина (ТЦ Spar)</td>\n",
              "      <td>От 1 года до 3 лет</td>\n",
              "      <td>Полный день</td>\n",
              "      <td>Полная занятость</td>\n",
              "      <td>Крупная федеральная сеть магазинов мужской и ж...</td>\n",
              "      <td>[]</td>\n",
              "      <td>36700.0</td>\n",
              "    </tr>\n",
              "    <tr>\n",
              "      <th>4</th>\n",
              "      <td>Мойщик посуды (кулинария)</td>\n",
              "      <td>Нет опыта</td>\n",
              "      <td>Сменный график</td>\n",
              "      <td>Полная занятость</td>\n",
              "      <td>Обязанности:  Уборка производственных площадей...</td>\n",
              "      <td>['Пользователь ПК', 'Грамотная речь', 'Работа ...</td>\n",
              "      <td>37000.0</td>\n",
              "    </tr>\n",
              "  </tbody>\n",
              "</table>\n",
              "</div>\n",
              "      <button class=\"colab-df-convert\" onclick=\"convertToInteractive('df-23a43ac1-2031-4a1c-b4da-881003171e12')\"\n",
              "              title=\"Convert this dataframe to an interactive table.\"\n",
              "              style=\"display:none;\">\n",
              "        \n",
              "  <svg xmlns=\"http://www.w3.org/2000/svg\" height=\"24px\"viewBox=\"0 0 24 24\"\n",
              "       width=\"24px\">\n",
              "    <path d=\"M0 0h24v24H0V0z\" fill=\"none\"/>\n",
              "    <path d=\"M18.56 5.44l.94 2.06.94-2.06 2.06-.94-2.06-.94-.94-2.06-.94 2.06-2.06.94zm-11 1L8.5 8.5l.94-2.06 2.06-.94-2.06-.94L8.5 2.5l-.94 2.06-2.06.94zm10 10l.94 2.06.94-2.06 2.06-.94-2.06-.94-.94-2.06-.94 2.06-2.06.94z\"/><path d=\"M17.41 7.96l-1.37-1.37c-.4-.4-.92-.59-1.43-.59-.52 0-1.04.2-1.43.59L10.3 9.45l-7.72 7.72c-.78.78-.78 2.05 0 2.83L4 21.41c.39.39.9.59 1.41.59.51 0 1.02-.2 1.41-.59l7.78-7.78 2.81-2.81c.8-.78.8-2.07 0-2.86zM5.41 20L4 18.59l7.72-7.72 1.47 1.35L5.41 20z\"/>\n",
              "  </svg>\n",
              "      </button>\n",
              "      \n",
              "  <style>\n",
              "    .colab-df-container {\n",
              "      display:flex;\n",
              "      flex-wrap:wrap;\n",
              "      gap: 12px;\n",
              "    }\n",
              "\n",
              "    .colab-df-convert {\n",
              "      background-color: #E8F0FE;\n",
              "      border: none;\n",
              "      border-radius: 50%;\n",
              "      cursor: pointer;\n",
              "      display: none;\n",
              "      fill: #1967D2;\n",
              "      height: 32px;\n",
              "      padding: 0 0 0 0;\n",
              "      width: 32px;\n",
              "    }\n",
              "\n",
              "    .colab-df-convert:hover {\n",
              "      background-color: #E2EBFA;\n",
              "      box-shadow: 0px 1px 2px rgba(60, 64, 67, 0.3), 0px 1px 3px 1px rgba(60, 64, 67, 0.15);\n",
              "      fill: #174EA6;\n",
              "    }\n",
              "\n",
              "    [theme=dark] .colab-df-convert {\n",
              "      background-color: #3B4455;\n",
              "      fill: #D2E3FC;\n",
              "    }\n",
              "\n",
              "    [theme=dark] .colab-df-convert:hover {\n",
              "      background-color: #434B5C;\n",
              "      box-shadow: 0px 1px 3px 1px rgba(0, 0, 0, 0.15);\n",
              "      filter: drop-shadow(0px 1px 2px rgba(0, 0, 0, 0.3));\n",
              "      fill: #FFFFFF;\n",
              "    }\n",
              "  </style>\n",
              "\n",
              "      <script>\n",
              "        const buttonEl =\n",
              "          document.querySelector('#df-23a43ac1-2031-4a1c-b4da-881003171e12 button.colab-df-convert');\n",
              "        buttonEl.style.display =\n",
              "          google.colab.kernel.accessAllowed ? 'block' : 'none';\n",
              "\n",
              "        async function convertToInteractive(key) {\n",
              "          const element = document.querySelector('#df-23a43ac1-2031-4a1c-b4da-881003171e12');\n",
              "          const dataTable =\n",
              "            await google.colab.kernel.invokeFunction('convertToInteractive',\n",
              "                                                     [key], {});\n",
              "          if (!dataTable) return;\n",
              "\n",
              "          const docLinkHtml = 'Like what you see? Visit the ' +\n",
              "            '<a target=\"_blank\" href=https://colab.research.google.com/notebooks/data_table.ipynb>data table notebook</a>'\n",
              "            + ' to learn more about interactive tables.';\n",
              "          element.innerHTML = '';\n",
              "          dataTable['output_type'] = 'display_data';\n",
              "          await google.colab.output.renderOutput(dataTable, element);\n",
              "          const docLink = document.createElement('div');\n",
              "          docLink.innerHTML = docLinkHtml;\n",
              "          element.appendChild(docLink);\n",
              "        }\n",
              "      </script>\n",
              "    </div>\n",
              "  </div>\n",
              "  "
            ],
            "text/plain": [
              "                                                name          experience  \\\n",
              "0                                Водитель-экспедитор       От 3 до 6 лет   \n",
              "1                Кладовщик-комплектовщик/оператор 1С  От 1 года до 3 лет   \n",
              "2  Продавец магазина \"Магнит\" (Кировский р-он, В....           Нет опыта   \n",
              "3                   Администратор магазина (ТЦ Spar)  От 1 года до 3 лет   \n",
              "4                          Мойщик посуды (кулинария)           Нет опыта   \n",
              "\n",
              "         schedule        employment  \\\n",
              "0     Полный день  Полная занятость   \n",
              "1     Полный день  Полная занятость   \n",
              "2  Сменный график  Полная занятость   \n",
              "3     Полный день  Полная занятость   \n",
              "4  Сменный график  Полная занятость   \n",
              "\n",
              "                                         description  \\\n",
              "0  Водитель-экспедитор категории В,С (а\\м ГАЗЕЛЬ ...   \n",
              "1  Обязанности:   Списывание материалов в произво...   \n",
              "2  В крупнейшую Федеральную сеть магазинов \"Магни...   \n",
              "3  Крупная федеральная сеть магазинов мужской и ж...   \n",
              "4  Обязанности:  Уборка производственных площадей...   \n",
              "\n",
              "                                          key_skills   salary  \n",
              "0                                                 []  42500.0  \n",
              "1  ['знание пк', 'работа в 1С', 'Работа в команде...  50000.0  \n",
              "2                                                 []  31500.0  \n",
              "3                                                 []  36700.0  \n",
              "4  ['Пользователь ПК', 'Грамотная речь', 'Работа ...  37000.0  "
            ]
          },
          "execution_count": 10,
          "metadata": {},
          "output_type": "execute_result"
        }
      ],
      "source": [
        "df_train.head()"
      ]
    },
    {
      "cell_type": "code",
      "execution_count": null,
      "metadata": {
        "colab": {
          "base_uri": "https://localhost:8080/",
          "height": 327
        },
        "id": "HkmVWYX09HpO",
        "outputId": "8250394a-d7c5-4ec6-da5a-6683bae232b4"
      },
      "outputs": [
        {
          "data": {
            "text/html": [
              "\n",
              "  <div id=\"df-19315c22-971f-4716-ba0c-72f063100b78\">\n",
              "    <div class=\"colab-df-container\">\n",
              "      <div>\n",
              "<style scoped>\n",
              "    .dataframe tbody tr th:only-of-type {\n",
              "        vertical-align: middle;\n",
              "    }\n",
              "\n",
              "    .dataframe tbody tr th {\n",
              "        vertical-align: top;\n",
              "    }\n",
              "\n",
              "    .dataframe thead th {\n",
              "        text-align: right;\n",
              "    }\n",
              "</style>\n",
              "<table border=\"1\" class=\"dataframe\">\n",
              "  <thead>\n",
              "    <tr style=\"text-align: right;\">\n",
              "      <th></th>\n",
              "      <th>id</th>\n",
              "      <th>name</th>\n",
              "      <th>experience</th>\n",
              "      <th>schedule</th>\n",
              "      <th>employment</th>\n",
              "      <th>description</th>\n",
              "      <th>key_skills</th>\n",
              "    </tr>\n",
              "  </thead>\n",
              "  <tbody>\n",
              "    <tr>\n",
              "      <th>0</th>\n",
              "      <td>0</td>\n",
              "      <td>Главный бухгалтер</td>\n",
              "      <td>Более 6 лет</td>\n",
              "      <td>Полный день</td>\n",
              "      <td>Полная занятость</td>\n",
              "      <td>Обязанности:Осуществление организации бухгалте...</td>\n",
              "      <td>['1С: Предприятие 8', '1C: Предприятие', 'Рабо...</td>\n",
              "    </tr>\n",
              "    <tr>\n",
              "      <th>1</th>\n",
              "      <td>1</td>\n",
              "      <td>Ассистент врача-стоматолога</td>\n",
              "      <td>От 1 года до 3 лет</td>\n",
              "      <td>Сменный график</td>\n",
              "      <td>Полная занятость</td>\n",
              "      <td>Обязанности:  Ассистировать врачу стоматологу,...</td>\n",
              "      <td>['Пользователь ПК', 'Работа в команде', 'Умени...</td>\n",
              "    </tr>\n",
              "    <tr>\n",
              "      <th>2</th>\n",
              "      <td>2</td>\n",
              "      <td>Менеджер по продажам</td>\n",
              "      <td>От 1 года до 3 лет</td>\n",
              "      <td>Полный день</td>\n",
              "      <td>Полная занятость</td>\n",
              "      <td>Если ты:    хочешь построить карьеру в банковс...</td>\n",
              "      <td>[]</td>\n",
              "    </tr>\n",
              "    <tr>\n",
              "      <th>3</th>\n",
              "      <td>3</td>\n",
              "      <td>Менеджер</td>\n",
              "      <td>От 1 года до 3 лет</td>\n",
              "      <td>Полный день</td>\n",
              "      <td>Полная занятость</td>\n",
              "      <td>Динамично развивающаяся на протяжении 17 лет...</td>\n",
              "      <td>['Оценка потребностей клиентов', 'оформление д...</td>\n",
              "    </tr>\n",
              "    <tr>\n",
              "      <th>4</th>\n",
              "      <td>4</td>\n",
              "      <td>Администратор хостела</td>\n",
              "      <td>Нет опыта</td>\n",
              "      <td>Сменный график</td>\n",
              "      <td>Полная занятость</td>\n",
              "      <td>ВОЗМОЖНА РАБОТА С ПРОЖИВАНИЕМ Обязанности:  Пр...</td>\n",
              "      <td>[]</td>\n",
              "    </tr>\n",
              "  </tbody>\n",
              "</table>\n",
              "</div>\n",
              "      <button class=\"colab-df-convert\" onclick=\"convertToInteractive('df-19315c22-971f-4716-ba0c-72f063100b78')\"\n",
              "              title=\"Convert this dataframe to an interactive table.\"\n",
              "              style=\"display:none;\">\n",
              "        \n",
              "  <svg xmlns=\"http://www.w3.org/2000/svg\" height=\"24px\"viewBox=\"0 0 24 24\"\n",
              "       width=\"24px\">\n",
              "    <path d=\"M0 0h24v24H0V0z\" fill=\"none\"/>\n",
              "    <path d=\"M18.56 5.44l.94 2.06.94-2.06 2.06-.94-2.06-.94-.94-2.06-.94 2.06-2.06.94zm-11 1L8.5 8.5l.94-2.06 2.06-.94-2.06-.94L8.5 2.5l-.94 2.06-2.06.94zm10 10l.94 2.06.94-2.06 2.06-.94-2.06-.94-.94-2.06-.94 2.06-2.06.94z\"/><path d=\"M17.41 7.96l-1.37-1.37c-.4-.4-.92-.59-1.43-.59-.52 0-1.04.2-1.43.59L10.3 9.45l-7.72 7.72c-.78.78-.78 2.05 0 2.83L4 21.41c.39.39.9.59 1.41.59.51 0 1.02-.2 1.41-.59l7.78-7.78 2.81-2.81c.8-.78.8-2.07 0-2.86zM5.41 20L4 18.59l7.72-7.72 1.47 1.35L5.41 20z\"/>\n",
              "  </svg>\n",
              "      </button>\n",
              "      \n",
              "  <style>\n",
              "    .colab-df-container {\n",
              "      display:flex;\n",
              "      flex-wrap:wrap;\n",
              "      gap: 12px;\n",
              "    }\n",
              "\n",
              "    .colab-df-convert {\n",
              "      background-color: #E8F0FE;\n",
              "      border: none;\n",
              "      border-radius: 50%;\n",
              "      cursor: pointer;\n",
              "      display: none;\n",
              "      fill: #1967D2;\n",
              "      height: 32px;\n",
              "      padding: 0 0 0 0;\n",
              "      width: 32px;\n",
              "    }\n",
              "\n",
              "    .colab-df-convert:hover {\n",
              "      background-color: #E2EBFA;\n",
              "      box-shadow: 0px 1px 2px rgba(60, 64, 67, 0.3), 0px 1px 3px 1px rgba(60, 64, 67, 0.15);\n",
              "      fill: #174EA6;\n",
              "    }\n",
              "\n",
              "    [theme=dark] .colab-df-convert {\n",
              "      background-color: #3B4455;\n",
              "      fill: #D2E3FC;\n",
              "    }\n",
              "\n",
              "    [theme=dark] .colab-df-convert:hover {\n",
              "      background-color: #434B5C;\n",
              "      box-shadow: 0px 1px 3px 1px rgba(0, 0, 0, 0.15);\n",
              "      filter: drop-shadow(0px 1px 2px rgba(0, 0, 0, 0.3));\n",
              "      fill: #FFFFFF;\n",
              "    }\n",
              "  </style>\n",
              "\n",
              "      <script>\n",
              "        const buttonEl =\n",
              "          document.querySelector('#df-19315c22-971f-4716-ba0c-72f063100b78 button.colab-df-convert');\n",
              "        buttonEl.style.display =\n",
              "          google.colab.kernel.accessAllowed ? 'block' : 'none';\n",
              "\n",
              "        async function convertToInteractive(key) {\n",
              "          const element = document.querySelector('#df-19315c22-971f-4716-ba0c-72f063100b78');\n",
              "          const dataTable =\n",
              "            await google.colab.kernel.invokeFunction('convertToInteractive',\n",
              "                                                     [key], {});\n",
              "          if (!dataTable) return;\n",
              "\n",
              "          const docLinkHtml = 'Like what you see? Visit the ' +\n",
              "            '<a target=\"_blank\" href=https://colab.research.google.com/notebooks/data_table.ipynb>data table notebook</a>'\n",
              "            + ' to learn more about interactive tables.';\n",
              "          element.innerHTML = '';\n",
              "          dataTable['output_type'] = 'display_data';\n",
              "          await google.colab.output.renderOutput(dataTable, element);\n",
              "          const docLink = document.createElement('div');\n",
              "          docLink.innerHTML = docLinkHtml;\n",
              "          element.appendChild(docLink);\n",
              "        }\n",
              "      </script>\n",
              "    </div>\n",
              "  </div>\n",
              "  "
            ],
            "text/plain": [
              "   id                         name          experience        schedule  \\\n",
              "0   0            Главный бухгалтер         Более 6 лет     Полный день   \n",
              "1   1  Ассистент врача-стоматолога  От 1 года до 3 лет  Сменный график   \n",
              "2   2         Менеджер по продажам  От 1 года до 3 лет     Полный день   \n",
              "3   3                     Менеджер  От 1 года до 3 лет     Полный день   \n",
              "4   4        Администратор хостела           Нет опыта  Сменный график   \n",
              "\n",
              "         employment                                        description  \\\n",
              "0  Полная занятость  Обязанности:Осуществление организации бухгалте...   \n",
              "1  Полная занятость  Обязанности:  Ассистировать врачу стоматологу,...   \n",
              "2  Полная занятость  Если ты:    хочешь построить карьеру в банковс...   \n",
              "3  Полная занятость    Динамично развивающаяся на протяжении 17 лет...   \n",
              "4  Полная занятость  ВОЗМОЖНА РАБОТА С ПРОЖИВАНИЕМ Обязанности:  Пр...   \n",
              "\n",
              "                                          key_skills  \n",
              "0  ['1С: Предприятие 8', '1C: Предприятие', 'Рабо...  \n",
              "1  ['Пользователь ПК', 'Работа в команде', 'Умени...  \n",
              "2                                                 []  \n",
              "3  ['Оценка потребностей клиентов', 'оформление д...  \n",
              "4                                                 []  "
            ]
          },
          "execution_count": 11,
          "metadata": {},
          "output_type": "execute_result"
        }
      ],
      "source": [
        "df_test.head()"
      ]
    },
    {
      "cell_type": "markdown",
      "metadata": {
        "id": "JWt734y11t8R"
      },
      "source": [
        "## Заранее очищенные данные"
      ]
    },
    {
      "cell_type": "code",
      "execution_count": null,
      "metadata": {
        "id": "fFkUMSLaYuJZ"
      },
      "outputs": [],
      "source": [
        "#Очищенные данные:\n",
        "base_url = 'https://cloud-api.yandex.net/v1/disk/public/resources/download?'\n",
        "public_key = 'https://disk.yandex.ru/d/GN0jQ3pJ70dU8g'   \n",
        "\n",
        "# Получаем загрузочную ссылку\n",
        "final_url = base_url + urlencode(dict(public_key=public_key))\n",
        "response = requests.get(final_url)\n",
        "download_url = response.json()['href']\n",
        "\n",
        "# Загружаем файл и сохраняем его\n",
        "download_response = requests.get(download_url) \n",
        "clean_train = pd.read_csv(download_url, sep=',') "
      ]
    },
    {
      "cell_type": "code",
      "execution_count": null,
      "metadata": {
        "id": "GtlYy35XL6_L"
      },
      "outputs": [],
      "source": [
        "base_url = 'https://cloud-api.yandex.net/v1/disk/public/resources/download?'\n",
        "public_key = 'https://disk.yandex.ru/d/o-oteKvtX-phYw'   \n",
        "\n",
        "# Получаем загрузочную ссылку\n",
        "final_url = base_url + urlencode(dict(public_key=public_key))\n",
        "response = requests.get(final_url)\n",
        "download_url = response.json()['href']\n",
        "\n",
        "# Загружаем файл и сохраняем его\n",
        "download_response = requests.get(download_url) \n",
        "clean_test = pd.read_csv(download_url, sep=',') "
      ]
    },
    {
      "cell_type": "code",
      "execution_count": null,
      "metadata": {
        "id": "SaKAQF4VbCj0"
      },
      "outputs": [],
      "source": [
        "base_url = 'https://cloud-api.yandex.net/v1/disk/public/resources/download?'\n",
        "public_key = 'https://disk.yandex.ru/d/LM-R1ltfX6V4gw'   \n",
        "\n",
        "# Получаем загрузочную ссылку\n",
        "final_url = base_url + urlencode(dict(public_key=public_key))\n",
        "response = requests.get(final_url)\n",
        "download_url = response.json()['href']\n",
        "\n",
        "# Загружаем файл и сохраняем его\n",
        "download_response = requests.get(download_url) \n",
        "salary = pd.read_csv(download_url, sep=',') "
      ]
    },
    {
      "cell_type": "markdown",
      "metadata": {
        "id": "-Ttn0iM7eY1S"
      },
      "source": [
        "# EDA"
      ]
    },
    {
      "cell_type": "markdown",
      "metadata": {
        "id": "4vAjkZwXopCg"
      },
      "source": [
        "В первую очередь, проверили, что в датасете нет недостающих значений. Как тренировочные, так и тестовые данные не содержат значений формата None\n"
      ]
    },
    {
      "cell_type": "code",
      "execution_count": null,
      "metadata": {
        "colab": {
          "base_uri": "https://localhost:8080/"
        },
        "id": "ebmOjtpPofzF",
        "outputId": "b2edfeea-b1b5-42d9-a92f-f0b6a210f5a2"
      },
      "outputs": [
        {
          "data": {
            "text/plain": [
              "name           0\n",
              "experience     0\n",
              "schedule       0\n",
              "employment     0\n",
              "description    0\n",
              "key_skills     0\n",
              "salary         0\n",
              "dtype: int64"
            ]
          },
          "execution_count": 11,
          "metadata": {},
          "output_type": "execute_result"
        }
      ],
      "source": [
        "df_train.isna().sum()"
      ]
    },
    {
      "cell_type": "code",
      "execution_count": null,
      "metadata": {
        "colab": {
          "base_uri": "https://localhost:8080/"
        },
        "id": "PAg8xvifpX5m",
        "outputId": "68c8e92d-8415-463c-a26d-de1740b837f8"
      },
      "outputs": [
        {
          "data": {
            "text/plain": [
              "id             0\n",
              "name           0\n",
              "experience     0\n",
              "schedule       0\n",
              "employment     0\n",
              "description    0\n",
              "key_skills     0\n",
              "dtype: int64"
            ]
          },
          "execution_count": 12,
          "metadata": {},
          "output_type": "execute_result"
        }
      ],
      "source": [
        "df_test.isna().sum()"
      ]
    },
    {
      "cell_type": "markdown",
      "metadata": {
        "id": "7Xt34iFQ1-dR"
      },
      "source": [
        "Зарплаты сильно скошены в сторону низких значений"
      ]
    },
    {
      "cell_type": "code",
      "execution_count": null,
      "metadata": {
        "colab": {
          "base_uri": "https://localhost:8080/",
          "height": 403
        },
        "id": "gw5yiBR7eR7W",
        "outputId": "837216d2-28ce-4db3-f83d-f3475346cd9a"
      },
      "outputs": [
        {
          "data": {
            "text/plain": [
              "<AxesSubplot:xlabel='salary', ylabel='Count'>"
            ]
          },
          "execution_count": 13,
          "metadata": {},
          "output_type": "execute_result"
        },
        {
          "data": {
            "image/png": "[encoded data removed]",
            "text/plain": [
              "<Figure size 720x432 with 1 Axes>"
            ]
          },
          "metadata": {},
          "output_type": "display_data"
        }
      ],
      "source": [
        "sns.histplot(df_train.salary, bins=100)"
      ]
    },
    {
      "cell_type": "markdown",
      "metadata": {
        "id": "cPwtN04TP-Vf"
      },
      "source": [
        "Преобразуем зависимую переменную через натуральный логарифм - в таком виде выбросы будут нагляднее\n",
        "\n",
        "Также, близость к нормальному распределению позволит проще предсказывать зависимую переменную в задаче регрессии"
      ]
    },
    {
      "cell_type": "code",
      "execution_count": null,
      "metadata": {
        "colab": {
          "base_uri": "https://localhost:8080/",
          "height": 403
        },
        "id": "ZesRmq5geqf0",
        "outputId": "d55a86a9-8f10-4982-bbf7-71145d8f8d2a"
      },
      "outputs": [
        {
          "data": {
            "text/plain": [
              "<AxesSubplot:xlabel='salary', ylabel='Count'>"
            ]
          },
          "execution_count": 14,
          "metadata": {},
          "output_type": "execute_result"
        },
        {
          "data": {
            "image/png": "[encoded data removed]",
            "text/plain": [
              "<Figure size 720x432 with 1 Axes>"
            ]
          },
          "metadata": {},
          "output_type": "display_data"
        }
      ],
      "source": [
        "sns.histplot(np.log(df_train.salary), bins=100)"
      ]
    },
    {
      "cell_type": "markdown",
      "metadata": {
        "id": "AqXPBBqlfU1i"
      },
      "source": [
        "**Шаг 1: удаляем выбросы**"
      ]
    },
    {
      "cell_type": "markdown",
      "metadata": {
        "id": "IXIvJIriQVqK"
      },
      "source": [
        "Попытка удаления выбросов была предпринята, однако удаление сильно отклоняющихся от среднего значений не привело к улучшению результатов предсказания - напротив, fit моделей на данных без удаленных выбросов превосходит таковой для очищенных данных"
      ]
    },
    {
      "cell_type": "code",
      "execution_count": null,
      "metadata": {
        "id": "qu08P1imQRtm"
      },
      "outputs": [],
      "source": [
        "import numpy as np"
      ]
    },
    {
      "cell_type": "code",
      "execution_count": null,
      "metadata": {
        "id": "CTReMgUrfUDj"
      },
      "outputs": [],
      "source": [
        "Q1 = np.percentile(np.log10(df_train.salary + 1), 25, method = 'midpoint')\n",
        "Q3 = np.percentile(np.log10(df_train.salary + 1), 75, method = 'midpoint')\n",
        "IQR = Q3 - Q1\n",
        "upper=Q3+2*IQR\n",
        "lower=Q1-2*IQR"
      ]
    },
    {
      "cell_type": "code",
      "execution_count": null,
      "metadata": {
        "id": "4_pvnpxJgHcl"
      },
      "outputs": [],
      "source": [
        "df_train['log10_salary'] = np.log10(df_train.salary + 1)"
      ]
    },
    {
      "cell_type": "code",
      "execution_count": null,
      "metadata": {
        "id": "6lslvB2lgYeO"
      },
      "outputs": [],
      "source": [
        "df_low = df_train[df_train.log10_salary <= lower] #слишком низкая зарплата\n",
        "df_high = df_train[df_train.log10_salary >= upper] #слишком высокая зарплата\n",
        "df_train_no_out = df_train.loc[(df_train.log10_salary >= lower) & (df_train.log10_salary <= upper)].reset_index()"
      ]
    },
    {
      "cell_type": "code",
      "execution_count": null,
      "metadata": {
        "colab": {
          "base_uri": "https://localhost:8080/"
        },
        "id": "e6tbctDIg09w",
        "outputId": "d551d1d0-8512-454a-d0fb-595ddf38c2f0"
      },
      "outputs": [
        {
          "name": "stdout",
          "output_type": "stream",
          "text": [
            "37 16\n"
          ]
        }
      ],
      "source": [
        "print(len(df_low), len(df_high)) # всего теряем на выбросах меньше 100 наблюдений, просто отказываемся от них"
      ]
    },
    {
      "cell_type": "code",
      "execution_count": null,
      "metadata": {
        "id": "JZLTT1yXTMty"
      },
      "outputs": [],
      "source": [
        "df_train_no_out.to_csv('sal.csv')"
      ]
    },
    {
      "cell_type": "markdown",
      "metadata": {
        "id": "7JYf22C_jFkd"
      },
      "source": [
        "**Шаг 2: Работа с категориальными переменными**"
      ]
    },
    {
      "cell_type": "markdown",
      "metadata": {
        "id": "NPSvg7FLk-vF"
      },
      "source": [
        "Вакансий для опытных соискателей совсем немного, но они, в среднем, наиболее высокооплачиваемые\n",
        "\n",
        "Требуемый опыт распределен между тестовым и тренировочным датасетами равномерно"
      ]
    },
    {
      "cell_type": "code",
      "execution_count": null,
      "metadata": {
        "colab": {
          "base_uri": "https://localhost:8080/",
          "height": 387
        },
        "id": "KXElvq53pgpt",
        "outputId": "3c867336-9049-477c-e90f-c9915b878241"
      },
      "outputs": [
        {
          "data": {
            "image/png": "[encoded data removed]",
            "text/plain": [
              "<Figure size 720x432 with 1 Axes>"
            ]
          },
          "metadata": {},
          "output_type": "display_data"
        }
      ],
      "source": [
        "sns.histplot(df_test.experience)\n",
        "sns.histplot(df_train_no_out.experience)\n",
        "plt.show()"
      ]
    },
    {
      "cell_type": "code",
      "execution_count": null,
      "metadata": {
        "colab": {
          "base_uri": "https://localhost:8080/",
          "height": 384
        },
        "id": "yJXvOYbdkXPo",
        "outputId": "a5c25357-d03c-4971-881b-004e357d3c21"
      },
      "outputs": [
        {
          "data": {
            "text/plain": [
              "<seaborn.axisgrid.FacetGrid at 0x7f55f1a0b220>"
            ]
          },
          "execution_count": 525,
          "metadata": {},
          "output_type": "execute_result"
        },
        {
          "data": {
            "image/png": "[encoded data removed]",
            "text/plain": [
              "<Figure size 360x360 with 1 Axes>"
            ]
          },
          "metadata": {},
          "output_type": "display_data"
        }
      ],
      "source": [
        "sns.catplot(x='experience', y='salary',\n",
        "            data=df_train_no_out,\n",
        "            kind='box')"
      ]
    },
    {
      "cell_type": "markdown",
      "metadata": {
        "id": "Inyb772Rl_T9"
      },
      "source": [
        "Перекодируем переменную experience следующим образом:\n",
        "*   0 - нет опыта\n",
        "*   1 - опыт от 1 года до 3 лет\n",
        "*   2 - опыт от 3 до 6 лет\n",
        "*   3 - опыт более 6 лет"
      ]
    },
    {
      "cell_type": "code",
      "execution_count": null,
      "metadata": {
        "id": "t0uMscgJl5Ho"
      },
      "outputs": [],
      "source": [
        "for i in range(len(df_train)):\n",
        "  try:\n",
        "     if df_train['experience'][i] == 'Нет опыта':\n",
        "        df_train['experience'][i] = '0 опыт'\n",
        "\n",
        "     elif df_train['experience'][i] == 'От 1 года до 3 лет':\n",
        "         df_train['experience'][i] = '1 опыт'\n",
        "\n",
        "     elif df_train['experience'][i] == 'От 3 до 6 лет':\n",
        "         df_train['experience'][i] = '2 опыт'\n",
        "     else :\n",
        "         df_train['experience'][i] = '3 опыт'\n",
        "  except:\n",
        "    print(df_train['experience'][i])\n",
        "\n",
        "df_train['experience_code'] = pd.factorize(df_train.experience, sort=True)[0]"
      ]
    },
    {
      "cell_type": "code",
      "execution_count": null,
      "metadata": {
        "colab": {
          "base_uri": "https://localhost:8080/",
          "height": 541
        },
        "id": "Lwe61Dsvmv89",
        "outputId": "93b0db37-32a8-4077-b7a0-0fff425e0ed9"
      },
      "outputs": [
        {
          "data": {
            "text/html": [
              "\n",
              "  <div id=\"df-c14b1957-f068-445b-bd7f-1572142b29cc\">\n",
              "    <div class=\"colab-df-container\">\n",
              "      <div>\n",
              "<style scoped>\n",
              "    .dataframe tbody tr th:only-of-type {\n",
              "        vertical-align: middle;\n",
              "    }\n",
              "\n",
              "    .dataframe tbody tr th {\n",
              "        vertical-align: top;\n",
              "    }\n",
              "\n",
              "    .dataframe thead th {\n",
              "        text-align: right;\n",
              "    }\n",
              "</style>\n",
              "<table border=\"1\" class=\"dataframe\">\n",
              "  <thead>\n",
              "    <tr style=\"text-align: right;\">\n",
              "      <th></th>\n",
              "      <th>name</th>\n",
              "      <th>experience</th>\n",
              "      <th>schedule</th>\n",
              "      <th>employment</th>\n",
              "      <th>description</th>\n",
              "      <th>key_skills</th>\n",
              "      <th>salary</th>\n",
              "      <th>skills</th>\n",
              "      <th>joined_skills</th>\n",
              "      <th>experience_code</th>\n",
              "    </tr>\n",
              "  </thead>\n",
              "  <tbody>\n",
              "    <tr>\n",
              "      <th>0</th>\n",
              "      <td>Водитель-экспедитор</td>\n",
              "      <td>2 опыт</td>\n",
              "      <td>Полный день</td>\n",
              "      <td>Полная занятость</td>\n",
              "      <td>Водитель-экспедитор категории В,С (а\\м ГАЗЕЛЬ ...</td>\n",
              "      <td>[]</td>\n",
              "      <td>42500.0</td>\n",
              "      <td>[]</td>\n",
              "      <td></td>\n",
              "      <td>2</td>\n",
              "    </tr>\n",
              "    <tr>\n",
              "      <th>1</th>\n",
              "      <td>Кладовщик-комплектовщик/оператор 1С</td>\n",
              "      <td>1 опыт</td>\n",
              "      <td>Полный день</td>\n",
              "      <td>Полная занятость</td>\n",
              "      <td>Обязанности:   Списывание материалов в произво...</td>\n",
              "      <td>['знание пк', 'работа в 1С', 'Работа в команде...</td>\n",
              "      <td>50000.0</td>\n",
              "      <td>[знание пк, работа в 1С, Работа в команде, Скл...</td>\n",
              "      <td>знание пк работа в 1С Работа в команде Складск...</td>\n",
              "      <td>1</td>\n",
              "    </tr>\n",
              "    <tr>\n",
              "      <th>2</th>\n",
              "      <td>Продавец магазина \"Магнит\" (Кировский р-он, В....</td>\n",
              "      <td>0 опыт</td>\n",
              "      <td>Сменный график</td>\n",
              "      <td>Полная занятость</td>\n",
              "      <td>В крупнейшую Федеральную сеть магазинов \"Магни...</td>\n",
              "      <td>[]</td>\n",
              "      <td>31500.0</td>\n",
              "      <td>[]</td>\n",
              "      <td></td>\n",
              "      <td>0</td>\n",
              "    </tr>\n",
              "    <tr>\n",
              "      <th>3</th>\n",
              "      <td>Администратор магазина (ТЦ Spar)</td>\n",
              "      <td>1 опыт</td>\n",
              "      <td>Полный день</td>\n",
              "      <td>Полная занятость</td>\n",
              "      <td>Крупная федеральная сеть магазинов мужской и ж...</td>\n",
              "      <td>[]</td>\n",
              "      <td>36700.0</td>\n",
              "      <td>[]</td>\n",
              "      <td></td>\n",
              "      <td>1</td>\n",
              "    </tr>\n",
              "    <tr>\n",
              "      <th>4</th>\n",
              "      <td>Мойщик посуды (кулинария)</td>\n",
              "      <td>0 опыт</td>\n",
              "      <td>Сменный график</td>\n",
              "      <td>Полная занятость</td>\n",
              "      <td>Обязанности:  Уборка производственных площадей...</td>\n",
              "      <td>['Пользователь ПК', 'Грамотная речь', 'Работа ...</td>\n",
              "      <td>37000.0</td>\n",
              "      <td>[Пользователь ПК, Грамотная речь, Работа с орг...</td>\n",
              "      <td>Пользователь ПК Грамотная речь Работа с оргтех...</td>\n",
              "      <td>0</td>\n",
              "    </tr>\n",
              "  </tbody>\n",
              "</table>\n",
              "</div>\n",
              "      <button class=\"colab-df-convert\" onclick=\"convertToInteractive('df-c14b1957-f068-445b-bd7f-1572142b29cc')\"\n",
              "              title=\"Convert this dataframe to an interactive table.\"\n",
              "              style=\"display:none;\">\n",
              "        \n",
              "  <svg xmlns=\"http://www.w3.org/2000/svg\" height=\"24px\"viewBox=\"0 0 24 24\"\n",
              "       width=\"24px\">\n",
              "    <path d=\"M0 0h24v24H0V0z\" fill=\"none\"/>\n",
              "    <path d=\"M18.56 5.44l.94 2.06.94-2.06 2.06-.94-2.06-.94-.94-2.06-.94 2.06-2.06.94zm-11 1L8.5 8.5l.94-2.06 2.06-.94-2.06-.94L8.5 2.5l-.94 2.06-2.06.94zm10 10l.94 2.06.94-2.06 2.06-.94-2.06-.94-.94-2.06-.94 2.06-2.06.94z\"/><path d=\"M17.41 7.96l-1.37-1.37c-.4-.4-.92-.59-1.43-.59-.52 0-1.04.2-1.43.59L10.3 9.45l-7.72 7.72c-.78.78-.78 2.05 0 2.83L4 21.41c.39.39.9.59 1.41.59.51 0 1.02-.2 1.41-.59l7.78-7.78 2.81-2.81c.8-.78.8-2.07 0-2.86zM5.41 20L4 18.59l7.72-7.72 1.47 1.35L5.41 20z\"/>\n",
              "  </svg>\n",
              "      </button>\n",
              "      \n",
              "  <style>\n",
              "    .colab-df-container {\n",
              "      display:flex;\n",
              "      flex-wrap:wrap;\n",
              "      gap: 12px;\n",
              "    }\n",
              "\n",
              "    .colab-df-convert {\n",
              "      background-color: #E8F0FE;\n",
              "      border: none;\n",
              "      border-radius: 50%;\n",
              "      cursor: pointer;\n",
              "      display: none;\n",
              "      fill: #1967D2;\n",
              "      height: 32px;\n",
              "      padding: 0 0 0 0;\n",
              "      width: 32px;\n",
              "    }\n",
              "\n",
              "    .colab-df-convert:hover {\n",
              "      background-color: #E2EBFA;\n",
              "      box-shadow: 0px 1px 2px rgba(60, 64, 67, 0.3), 0px 1px 3px 1px rgba(60, 64, 67, 0.15);\n",
              "      fill: #174EA6;\n",
              "    }\n",
              "\n",
              "    [theme=dark] .colab-df-convert {\n",
              "      background-color: #3B4455;\n",
              "      fill: #D2E3FC;\n",
              "    }\n",
              "\n",
              "    [theme=dark] .colab-df-convert:hover {\n",
              "      background-color: #434B5C;\n",
              "      box-shadow: 0px 1px 3px 1px rgba(0, 0, 0, 0.15);\n",
              "      filter: drop-shadow(0px 1px 2px rgba(0, 0, 0, 0.3));\n",
              "      fill: #FFFFFF;\n",
              "    }\n",
              "  </style>\n",
              "\n",
              "      <script>\n",
              "        const buttonEl =\n",
              "          document.querySelector('#df-c14b1957-f068-445b-bd7f-1572142b29cc button.colab-df-convert');\n",
              "        buttonEl.style.display =\n",
              "          google.colab.kernel.accessAllowed ? 'block' : 'none';\n",
              "\n",
              "        async function convertToInteractive(key) {\n",
              "          const element = document.querySelector('#df-c14b1957-f068-445b-bd7f-1572142b29cc');\n",
              "          const dataTable =\n",
              "            await google.colab.kernel.invokeFunction('convertToInteractive',\n",
              "                                                     [key], {});\n",
              "          if (!dataTable) return;\n",
              "\n",
              "          const docLinkHtml = 'Like what you see? Visit the ' +\n",
              "            '<a target=\"_blank\" href=https://colab.research.google.com/notebooks/data_table.ipynb>data table notebook</a>'\n",
              "            + ' to learn more about interactive tables.';\n",
              "          element.innerHTML = '';\n",
              "          dataTable['output_type'] = 'display_data';\n",
              "          await google.colab.output.renderOutput(dataTable, element);\n",
              "          const docLink = document.createElement('div');\n",
              "          docLink.innerHTML = docLinkHtml;\n",
              "          element.appendChild(docLink);\n",
              "        }\n",
              "      </script>\n",
              "    </div>\n",
              "  </div>\n",
              "  "
            ],
            "text/plain": [
              "                                                name experience  \\\n",
              "0                                Водитель-экспедитор     2 опыт   \n",
              "1                Кладовщик-комплектовщик/оператор 1С     1 опыт   \n",
              "2  Продавец магазина \"Магнит\" (Кировский р-он, В....     0 опыт   \n",
              "3                   Администратор магазина (ТЦ Spar)     1 опыт   \n",
              "4                          Мойщик посуды (кулинария)     0 опыт   \n",
              "\n",
              "         schedule        employment  \\\n",
              "0     Полный день  Полная занятость   \n",
              "1     Полный день  Полная занятость   \n",
              "2  Сменный график  Полная занятость   \n",
              "3     Полный день  Полная занятость   \n",
              "4  Сменный график  Полная занятость   \n",
              "\n",
              "                                         description  \\\n",
              "0  Водитель-экспедитор категории В,С (а\\м ГАЗЕЛЬ ...   \n",
              "1  Обязанности:   Списывание материалов в произво...   \n",
              "2  В крупнейшую Федеральную сеть магазинов \"Магни...   \n",
              "3  Крупная федеральная сеть магазинов мужской и ж...   \n",
              "4  Обязанности:  Уборка производственных площадей...   \n",
              "\n",
              "                                          key_skills   salary  \\\n",
              "0                                                 []  42500.0   \n",
              "1  ['знание пк', 'работа в 1С', 'Работа в команде...  50000.0   \n",
              "2                                                 []  31500.0   \n",
              "3                                                 []  36700.0   \n",
              "4  ['Пользователь ПК', 'Грамотная речь', 'Работа ...  37000.0   \n",
              "\n",
              "                                              skills  \\\n",
              "0                                                 []   \n",
              "1  [знание пк, работа в 1С, Работа в команде, Скл...   \n",
              "2                                                 []   \n",
              "3                                                 []   \n",
              "4  [Пользователь ПК, Грамотная речь, Работа с орг...   \n",
              "\n",
              "                                       joined_skills  experience_code  \n",
              "0                                                                   2  \n",
              "1  знание пк работа в 1С Работа в команде Складск...                1  \n",
              "2                                                                   0  \n",
              "3                                                                   1  \n",
              "4  Пользователь ПК Грамотная речь Работа с оргтех...                0  "
            ]
          },
          "execution_count": 22,
          "metadata": {},
          "output_type": "execute_result"
        }
      ],
      "source": [
        "df_train.head()"
      ]
    },
    {
      "cell_type": "markdown",
      "metadata": {
        "id": "k4q9VT4ZqSEj"
      },
      "source": [
        "Теперь переходим к обработке расписания рабочих обязанностей\n",
        "\n",
        "Наполненность классов различается в несколько раз - кратно превалирует занятость на полный рабочий день"
      ]
    },
    {
      "cell_type": "code",
      "execution_count": null,
      "metadata": {
        "id": "nFAY-5PpMt5c"
      },
      "outputs": [],
      "source": [
        "df_train['schedule_code'] = pd.factorize(df_train.schedule, sort=True)[0]\n",
        "df_train['employment_code'] = pd.factorize(df_train.employment, sort=True)[0]"
      ]
    },
    {
      "cell_type": "code",
      "execution_count": null,
      "metadata": {
        "id": "Q8SzVH4bSzRs"
      },
      "outputs": [],
      "source": [
        "df_train.head()"
      ]
    },
    {
      "cell_type": "code",
      "execution_count": null,
      "metadata": {
        "colab": {
          "base_uri": "https://localhost:8080/",
          "height": 485
        },
        "id": "Qw14DeTqqCCN",
        "outputId": "c385962b-2826-4d8e-8e72-94aca93504af"
      },
      "outputs": [
        {
          "data": {
            "text/plain": [
              "Полный день         11396\n",
              "Сменный график       2714\n",
              "Вахтовый метод       1158\n",
              "Гибкий график         672\n",
              "Удаленная работа      636\n",
              "Name: schedule, dtype: int64"
            ]
          },
          "execution_count": 532,
          "metadata": {},
          "output_type": "execute_result"
        },
        {
          "data": {
            "image/png": "[encoded data removed]",
            "text/plain": [
              "<Figure size 720x432 with 1 Axes>"
            ]
          },
          "metadata": {},
          "output_type": "display_data"
        }
      ],
      "source": [
        "sns.histplot(df_train_no_out.schedule)\n",
        "sns.histplot(df_test.schedule)\n",
        "df_train_no_out.schedule.value_counts()"
      ]
    },
    {
      "cell_type": "markdown",
      "metadata": {
        "id": "coGnBOSjqpAz"
      },
      "source": [
        "то же самое касается формата работы"
      ]
    },
    {
      "cell_type": "code",
      "execution_count": null,
      "metadata": {
        "colab": {
          "base_uri": "https://localhost:8080/",
          "height": 469
        },
        "id": "SeBVdd0Pqggd",
        "outputId": "00a53266-3f4e-43ca-b0fd-8aa91f16032d"
      },
      "outputs": [
        {
          "data": {
            "text/plain": [
              "Полная занятость       15693\n",
              "Частичная занятость      783\n",
              "Проектная работа          66\n",
              "Стажировка                34\n",
              "Name: employment, dtype: int64"
            ]
          },
          "execution_count": 533,
          "metadata": {},
          "output_type": "execute_result"
        },
        {
          "data": {
            "image/png": "[encoded data removed]",
            "text/plain": [
              "<Figure size 720x432 with 1 Axes>"
            ]
          },
          "metadata": {},
          "output_type": "display_data"
        }
      ],
      "source": [
        "sns.histplot(df_train_no_out.employment)\n",
        "sns.histplot(df_test.employment)\n",
        "df_train_no_out.employment.value_counts()"
      ]
    },
    {
      "cell_type": "markdown",
      "metadata": {
        "id": "OXabQ9Ypsq9b"
      },
      "source": [
        "**Шаг 3: Работа с требуемыми навыками**\n"
      ]
    },
    {
      "cell_type": "code",
      "execution_count": null,
      "metadata": {
        "id": "9ZhopyOOsNKc"
      },
      "outputs": [],
      "source": [
        "from ast import literal_eval\n",
        "from collections import OrderedDict"
      ]
    },
    {
      "cell_type": "code",
      "execution_count": null,
      "metadata": {
        "colab": {
          "base_uri": "https://localhost:8080/"
        },
        "id": "bpZMMm4_CnV1",
        "outputId": "76656bcf-b24a-436a-936b-b291a7492cc4"
      },
      "outputs": [
        {
          "name": "stderr",
          "output_type": "stream",
          "text": [
            "100%|██████████| 16629/16629 [00:00<00:00, 21191.00it/s]\n"
          ]
        }
      ],
      "source": [
        "skills = []\n",
        "for i in tqdm(range(len(df_train))):\n",
        "  a = literal_eval(df_train['key_skills'][i])\n",
        "  skills.append(a)"
      ]
    },
    {
      "cell_type": "code",
      "execution_count": null,
      "metadata": {
        "colab": {
          "base_uri": "https://localhost:8080/",
          "height": 392
        },
        "id": "BD49wiiAT6eE",
        "outputId": "b34ba322-b48c-4e4b-e01e-91966869f6bc"
      },
      "outputs": [
        {
          "data": {
            "text/html": [
              "\n",
              "  <div id=\"df-4173eb89-35b0-4cf7-81ef-7a7eb5118d0d\">\n",
              "    <div class=\"colab-df-container\">\n",
              "      <div>\n",
              "<style scoped>\n",
              "    .dataframe tbody tr th:only-of-type {\n",
              "        vertical-align: middle;\n",
              "    }\n",
              "\n",
              "    .dataframe tbody tr th {\n",
              "        vertical-align: top;\n",
              "    }\n",
              "\n",
              "    .dataframe thead th {\n",
              "        text-align: right;\n",
              "    }\n",
              "</style>\n",
              "<table border=\"1\" class=\"dataframe\">\n",
              "  <thead>\n",
              "    <tr style=\"text-align: right;\">\n",
              "      <th></th>\n",
              "      <th>name</th>\n",
              "      <th>experience</th>\n",
              "      <th>schedule</th>\n",
              "      <th>employment</th>\n",
              "      <th>description</th>\n",
              "      <th>key_skills</th>\n",
              "      <th>salary</th>\n",
              "      <th>skills</th>\n",
              "    </tr>\n",
              "  </thead>\n",
              "  <tbody>\n",
              "    <tr>\n",
              "      <th>0</th>\n",
              "      <td>Водитель-экспедитор</td>\n",
              "      <td>От 3 до 6 лет</td>\n",
              "      <td>Полный день</td>\n",
              "      <td>Полная занятость</td>\n",
              "      <td>Водитель-экспедитор категории В,С (а\\м ГАЗЕЛЬ ...</td>\n",
              "      <td>[]</td>\n",
              "      <td>42500.0</td>\n",
              "      <td>[]</td>\n",
              "    </tr>\n",
              "    <tr>\n",
              "      <th>1</th>\n",
              "      <td>Кладовщик-комплектовщик/оператор 1С</td>\n",
              "      <td>От 1 года до 3 лет</td>\n",
              "      <td>Полный день</td>\n",
              "      <td>Полная занятость</td>\n",
              "      <td>Обязанности:   Списывание материалов в произво...</td>\n",
              "      <td>['знание пк', 'работа в 1С', 'Работа в команде...</td>\n",
              "      <td>50000.0</td>\n",
              "      <td>[знание пк, работа в 1С, Работа в команде, Скл...</td>\n",
              "    </tr>\n",
              "    <tr>\n",
              "      <th>2</th>\n",
              "      <td>Продавец магазина \"Магнит\" (Кировский р-он, В....</td>\n",
              "      <td>Нет опыта</td>\n",
              "      <td>Сменный график</td>\n",
              "      <td>Полная занятость</td>\n",
              "      <td>В крупнейшую Федеральную сеть магазинов \"Магни...</td>\n",
              "      <td>[]</td>\n",
              "      <td>31500.0</td>\n",
              "      <td>[]</td>\n",
              "    </tr>\n",
              "    <tr>\n",
              "      <th>3</th>\n",
              "      <td>Администратор магазина (ТЦ Spar)</td>\n",
              "      <td>От 1 года до 3 лет</td>\n",
              "      <td>Полный день</td>\n",
              "      <td>Полная занятость</td>\n",
              "      <td>Крупная федеральная сеть магазинов мужской и ж...</td>\n",
              "      <td>[]</td>\n",
              "      <td>36700.0</td>\n",
              "      <td>[]</td>\n",
              "    </tr>\n",
              "    <tr>\n",
              "      <th>4</th>\n",
              "      <td>Мойщик посуды (кулинария)</td>\n",
              "      <td>Нет опыта</td>\n",
              "      <td>Сменный график</td>\n",
              "      <td>Полная занятость</td>\n",
              "      <td>Обязанности:  Уборка производственных площадей...</td>\n",
              "      <td>['Пользователь ПК', 'Грамотная речь', 'Работа ...</td>\n",
              "      <td>37000.0</td>\n",
              "      <td>[Пользователь ПК, Грамотная речь, Работа с орг...</td>\n",
              "    </tr>\n",
              "  </tbody>\n",
              "</table>\n",
              "</div>\n",
              "      <button class=\"colab-df-convert\" onclick=\"convertToInteractive('df-4173eb89-35b0-4cf7-81ef-7a7eb5118d0d')\"\n",
              "              title=\"Convert this dataframe to an interactive table.\"\n",
              "              style=\"display:none;\">\n",
              "        \n",
              "  <svg xmlns=\"http://www.w3.org/2000/svg\" height=\"24px\"viewBox=\"0 0 24 24\"\n",
              "       width=\"24px\">\n",
              "    <path d=\"M0 0h24v24H0V0z\" fill=\"none\"/>\n",
              "    <path d=\"M18.56 5.44l.94 2.06.94-2.06 2.06-.94-2.06-.94-.94-2.06-.94 2.06-2.06.94zm-11 1L8.5 8.5l.94-2.06 2.06-.94-2.06-.94L8.5 2.5l-.94 2.06-2.06.94zm10 10l.94 2.06.94-2.06 2.06-.94-2.06-.94-.94-2.06-.94 2.06-2.06.94z\"/><path d=\"M17.41 7.96l-1.37-1.37c-.4-.4-.92-.59-1.43-.59-.52 0-1.04.2-1.43.59L10.3 9.45l-7.72 7.72c-.78.78-.78 2.05 0 2.83L4 21.41c.39.39.9.59 1.41.59.51 0 1.02-.2 1.41-.59l7.78-7.78 2.81-2.81c.8-.78.8-2.07 0-2.86zM5.41 20L4 18.59l7.72-7.72 1.47 1.35L5.41 20z\"/>\n",
              "  </svg>\n",
              "      </button>\n",
              "      \n",
              "  <style>\n",
              "    .colab-df-container {\n",
              "      display:flex;\n",
              "      flex-wrap:wrap;\n",
              "      gap: 12px;\n",
              "    }\n",
              "\n",
              "    .colab-df-convert {\n",
              "      background-color: #E8F0FE;\n",
              "      border: none;\n",
              "      border-radius: 50%;\n",
              "      cursor: pointer;\n",
              "      display: none;\n",
              "      fill: #1967D2;\n",
              "      height: 32px;\n",
              "      padding: 0 0 0 0;\n",
              "      width: 32px;\n",
              "    }\n",
              "\n",
              "    .colab-df-convert:hover {\n",
              "      background-color: #E2EBFA;\n",
              "      box-shadow: 0px 1px 2px rgba(60, 64, 67, 0.3), 0px 1px 3px 1px rgba(60, 64, 67, 0.15);\n",
              "      fill: #174EA6;\n",
              "    }\n",
              "\n",
              "    [theme=dark] .colab-df-convert {\n",
              "      background-color: #3B4455;\n",
              "      fill: #D2E3FC;\n",
              "    }\n",
              "\n",
              "    [theme=dark] .colab-df-convert:hover {\n",
              "      background-color: #434B5C;\n",
              "      box-shadow: 0px 1px 3px 1px rgba(0, 0, 0, 0.15);\n",
              "      filter: drop-shadow(0px 1px 2px rgba(0, 0, 0, 0.3));\n",
              "      fill: #FFFFFF;\n",
              "    }\n",
              "  </style>\n",
              "\n",
              "      <script>\n",
              "        const buttonEl =\n",
              "          document.querySelector('#df-4173eb89-35b0-4cf7-81ef-7a7eb5118d0d button.colab-df-convert');\n",
              "        buttonEl.style.display =\n",
              "          google.colab.kernel.accessAllowed ? 'block' : 'none';\n",
              "\n",
              "        async function convertToInteractive(key) {\n",
              "          const element = document.querySelector('#df-4173eb89-35b0-4cf7-81ef-7a7eb5118d0d');\n",
              "          const dataTable =\n",
              "            await google.colab.kernel.invokeFunction('convertToInteractive',\n",
              "                                                     [key], {});\n",
              "          if (!dataTable) return;\n",
              "\n",
              "          const docLinkHtml = 'Like what you see? Visit the ' +\n",
              "            '<a target=\"_blank\" href=https://colab.research.google.com/notebooks/data_table.ipynb>data table notebook</a>'\n",
              "            + ' to learn more about interactive tables.';\n",
              "          element.innerHTML = '';\n",
              "          dataTable['output_type'] = 'display_data';\n",
              "          await google.colab.output.renderOutput(dataTable, element);\n",
              "          const docLink = document.createElement('div');\n",
              "          docLink.innerHTML = docLinkHtml;\n",
              "          element.appendChild(docLink);\n",
              "        }\n",
              "      </script>\n",
              "    </div>\n",
              "  </div>\n",
              "  "
            ],
            "text/plain": [
              "                                                name          experience  \\\n",
              "0                                Водитель-экспедитор       От 3 до 6 лет   \n",
              "1                Кладовщик-комплектовщик/оператор 1С  От 1 года до 3 лет   \n",
              "2  Продавец магазина \"Магнит\" (Кировский р-он, В....           Нет опыта   \n",
              "3                   Администратор магазина (ТЦ Spar)  От 1 года до 3 лет   \n",
              "4                          Мойщик посуды (кулинария)           Нет опыта   \n",
              "\n",
              "         schedule        employment  \\\n",
              "0     Полный день  Полная занятость   \n",
              "1     Полный день  Полная занятость   \n",
              "2  Сменный график  Полная занятость   \n",
              "3     Полный день  Полная занятость   \n",
              "4  Сменный график  Полная занятость   \n",
              "\n",
              "                                         description  \\\n",
              "0  Водитель-экспедитор категории В,С (а\\м ГАЗЕЛЬ ...   \n",
              "1  Обязанности:   Списывание материалов в произво...   \n",
              "2  В крупнейшую Федеральную сеть магазинов \"Магни...   \n",
              "3  Крупная федеральная сеть магазинов мужской и ж...   \n",
              "4  Обязанности:  Уборка производственных площадей...   \n",
              "\n",
              "                                          key_skills   salary  \\\n",
              "0                                                 []  42500.0   \n",
              "1  ['знание пк', 'работа в 1С', 'Работа в команде...  50000.0   \n",
              "2                                                 []  31500.0   \n",
              "3                                                 []  36700.0   \n",
              "4  ['Пользователь ПК', 'Грамотная речь', 'Работа ...  37000.0   \n",
              "\n",
              "                                              skills  \n",
              "0                                                 []  \n",
              "1  [знание пк, работа в 1С, Работа в команде, Скл...  \n",
              "2                                                 []  \n",
              "3                                                 []  \n",
              "4  [Пользователь ПК, Грамотная речь, Работа с орг...  "
            ]
          },
          "execution_count": 16,
          "metadata": {},
          "output_type": "execute_result"
        }
      ],
      "source": [
        "df_train['skills'] = skills\n",
        "df_train.head()"
      ]
    },
    {
      "cell_type": "code",
      "execution_count": null,
      "metadata": {
        "colab": {
          "base_uri": "https://localhost:8080/"
        },
        "id": "WZLqHVMISkK9",
        "outputId": "b82e1176-2a93-461b-cda6-3231537419b5"
      },
      "outputs": [
        {
          "data": {
            "text/plain": [
              "['знание пк',\n",
              " 'работа в 1С',\n",
              " 'Работа в команде',\n",
              " 'Складской Учет',\n",
              " 'Складской документооборот',\n",
              " '1С: Производство',\n",
              " 'Организация движения и учета документов',\n",
              " 'Internet',\n",
              " 'Работа с ТМЦ',\n",
              " 'Контроль отгрузок',\n",
              " 'Ориентация на результат']"
            ]
          },
          "execution_count": 17,
          "metadata": {},
          "output_type": "execute_result"
        }
      ],
      "source": [
        "df_train.skills[1]"
      ]
    },
    {
      "cell_type": "code",
      "execution_count": null,
      "metadata": {
        "id": "ozQMhvrEsNtw"
      },
      "outputs": [],
      "source": [
        "skills_count = dict()\n",
        "\n",
        "for skill_list in df_train_no_out.key_skills:\n",
        "    list_of_skills = literal_eval(skill_list)\n",
        "    for skill in list_of_skills:\n",
        "        if skill not in skills_count:\n",
        "            skills_count[skill] = 1\n",
        "        else:\n",
        "            skills_count[skill] += 1\n",
        "\n",
        "skills_count = {k: v for k, v in sorted(skills_count.items(), key=lambda item: item[1], reverse=True)}\n",
        "skills_count"
      ]
    },
    {
      "cell_type": "markdown",
      "metadata": {
        "id": "HEuXgIN1Q4rQ"
      },
      "source": [
        "**Шаг 4: feature engineering**"
      ]
    },
    {
      "cell_type": "markdown",
      "metadata": {
        "id": "u7kauHCftUiP"
      },
      "source": [
        "Были созданы две переменные - **длина описания вакансии** и **количество требуемых навыков**\n",
        "\n",
        "Неожиданное наблюдение - описания вакансии становятся только короче вместе с ростом зарплаты\n",
        "\n",
        "Стоит также отметить, что для вакансий со ставкой более 200 тыс. рублей наблюдений кратно меньше чем в диапазоне до 150 тыс. рублей."
      ]
    },
    {
      "cell_type": "code",
      "execution_count": null,
      "metadata": {
        "colab": {
          "base_uri": "https://localhost:8080/",
          "height": 456
        },
        "id": "4plF1zCMqg3m",
        "outputId": "c4f690e2-07f5-4c9a-ea3e-6ab63d1b71ed"
      },
      "outputs": [
        {
          "name": "stderr",
          "output_type": "stream",
          "text": [
            "/usr/local/lib/python3.8/dist-packages/seaborn/_decorators.py:36: FutureWarning: Pass the following variables as keyword args: x, y. From version 0.12, the only valid positional argument will be `data`, and passing other arguments without an explicit keyword will result in an error or misinterpretation.\n",
            "  warnings.warn(\n"
          ]
        },
        {
          "data": {
            "text/plain": [
              "<AxesSubplot:xlabel='salary'>"
            ]
          },
          "execution_count": 261,
          "metadata": {},
          "output_type": "execute_result"
        },
        {
          "data": {
            "image/png": "[encoded data removed]",
            "text/plain": [
              "<Figure size 720x432 with 1 Axes>"
            ]
          },
          "metadata": {},
          "output_type": "display_data"
        }
      ],
      "source": [
        "lens = []\n",
        "for i in df_train.description:\n",
        "  lens.append(len(i))\n",
        "sns.scatterplot(df_train.salary, lens)"
      ]
    },
    {
      "cell_type": "markdown",
      "metadata": {
        "id": "AZ-OHJGitgTF"
      },
      "source": [
        "Нечто похожее наблюдается и в отношении навыков - более высокооплачиваемые вакансии перечисляют небольшое количество навыков\n",
        "\n",
        "Тем не менее, связь между этими признаками очень слабая, поэтому созданные переменные не будут включены в итоговую модель"
      ]
    },
    {
      "cell_type": "code",
      "execution_count": null,
      "metadata": {
        "colab": {
          "base_uri": "https://localhost:8080/",
          "height": 456
        },
        "id": "KWNFLk7Wsaao",
        "outputId": "b6e62169-cfe8-41e3-a6c3-7f6a59e9350c"
      },
      "outputs": [
        {
          "name": "stderr",
          "output_type": "stream",
          "text": [
            "/usr/local/lib/python3.8/dist-packages/seaborn/_decorators.py:36: FutureWarning: Pass the following variables as keyword args: x, y. From version 0.12, the only valid positional argument will be `data`, and passing other arguments without an explicit keyword will result in an error or misinterpretation.\n",
            "  warnings.warn(\n"
          ]
        },
        {
          "data": {
            "text/plain": [
              "<AxesSubplot:xlabel='salary'>"
            ]
          },
          "execution_count": 265,
          "metadata": {},
          "output_type": "execute_result"
        },
        {
          "data": {
            "image/png": "[encoded data removed]",
            "text/plain": [
              "<Figure size 720x432 with 1 Axes>"
            ]
          },
          "metadata": {},
          "output_type": "display_data"
        }
      ],
      "source": [
        "lens_sk = []\n",
        "for i in df_train_no_out.skills:\n",
        "  lens_sk.append(len(i))\n",
        "sns.scatterplot(df_train_no_out.salary, lens_sk)"
      ]
    },
    {
      "cell_type": "markdown",
      "metadata": {
        "id": "rkkf_GCyNXcq"
      },
      "source": [
        "# Preprocessing"
      ]
    },
    {
      "cell_type": "code",
      "execution_count": null,
      "metadata": {
        "id": "HxCNRmxlTLS_"
      },
      "outputs": [],
      "source": [
        "joined_skills = []\n",
        "for i in df_train['skills']:\n",
        "  joined_skills.append(' '.join(i))\n",
        "df_train['joined_skills'] = joined_skills"
      ]
    },
    {
      "cell_type": "code",
      "execution_count": null,
      "metadata": {
        "colab": {
          "base_uri": "https://localhost:8080/",
          "height": 50
        },
        "id": "_Ngbtv1RUNYb",
        "outputId": "8de60938-fcc7-4f30-ea2c-ded397fec979"
      },
      "outputs": [
        {
          "data": {
            "application/vnd.google.colaboratory.intrinsic+json": {
              "type": "string"
            },
            "text/plain": [
              "'знание пк работа в 1С Работа в команде Складской Учет Складской документооборот 1С: Производство Организация движения и учета документов Internet Работа с ТМЦ Контроль отгрузок Ориентация на результат'"
            ]
          },
          "execution_count": 20,
          "metadata": {},
          "output_type": "execute_result"
        }
      ],
      "source": [
        "df_train['joined_skills'][1]"
      ]
    },
    {
      "cell_type": "code",
      "execution_count": null,
      "metadata": {
        "id": "A0qrLBU9NdHo"
      },
      "outputs": [],
      "source": [
        "df_train_new = pd.DataFrame()\n",
        "df_train_new['text'] = df_train.name + ' ' + df_train.description\n",
        "df_train_new['skills'] = joined_skills\n",
        "df_train_new['experience'] = df_train['experience_code']\n",
        "df_train_new['schedule'] = df_train['schedule_code']\n",
        "df_train_new['employment'] = df_train['employment_code']"
      ]
    },
    {
      "cell_type": "code",
      "execution_count": null,
      "metadata": {
        "colab": {
          "base_uri": "https://localhost:8080/",
          "height": 201
        },
        "id": "kDRG-vTXTPls",
        "outputId": "8b6d4a18-e96f-4953-d713-c8088af81756"
      },
      "outputs": [
        {
          "data": {
            "text/html": [
              "\n",
              "  <div id=\"df-237f28fc-9b77-4295-9b27-e9fbf2dd2e73\">\n",
              "    <div class=\"colab-df-container\">\n",
              "      <div>\n",
              "<style scoped>\n",
              "    .dataframe tbody tr th:only-of-type {\n",
              "        vertical-align: middle;\n",
              "    }\n",
              "\n",
              "    .dataframe tbody tr th {\n",
              "        vertical-align: top;\n",
              "    }\n",
              "\n",
              "    .dataframe thead th {\n",
              "        text-align: right;\n",
              "    }\n",
              "</style>\n",
              "<table border=\"1\" class=\"dataframe\">\n",
              "  <thead>\n",
              "    <tr style=\"text-align: right;\">\n",
              "      <th></th>\n",
              "      <th>text</th>\n",
              "      <th>skills</th>\n",
              "      <th>experience</th>\n",
              "      <th>schedule</th>\n",
              "      <th>employment</th>\n",
              "    </tr>\n",
              "  </thead>\n",
              "  <tbody>\n",
              "    <tr>\n",
              "      <th>0</th>\n",
              "      <td>Водитель-экспедитор Водитель-экспедитор катего...</td>\n",
              "      <td></td>\n",
              "      <td>2</td>\n",
              "      <td>2</td>\n",
              "      <td>0</td>\n",
              "    </tr>\n",
              "    <tr>\n",
              "      <th>1</th>\n",
              "      <td>Кладовщик-комплектовщик/оператор 1С Обязанност...</td>\n",
              "      <td>знание пк работа в 1С Работа в команде Складск...</td>\n",
              "      <td>1</td>\n",
              "      <td>2</td>\n",
              "      <td>0</td>\n",
              "    </tr>\n",
              "    <tr>\n",
              "      <th>2</th>\n",
              "      <td>Продавец магазина \"Магнит\" (Кировский р-он, В....</td>\n",
              "      <td></td>\n",
              "      <td>0</td>\n",
              "      <td>3</td>\n",
              "      <td>0</td>\n",
              "    </tr>\n",
              "    <tr>\n",
              "      <th>3</th>\n",
              "      <td>Администратор магазина (ТЦ Spar) Крупная федер...</td>\n",
              "      <td></td>\n",
              "      <td>1</td>\n",
              "      <td>2</td>\n",
              "      <td>0</td>\n",
              "    </tr>\n",
              "    <tr>\n",
              "      <th>4</th>\n",
              "      <td>Мойщик посуды (кулинария) Обязанности:  Уборка...</td>\n",
              "      <td>Пользователь ПК Грамотная речь Работа с оргтех...</td>\n",
              "      <td>0</td>\n",
              "      <td>3</td>\n",
              "      <td>0</td>\n",
              "    </tr>\n",
              "  </tbody>\n",
              "</table>\n",
              "</div>\n",
              "      <button class=\"colab-df-convert\" onclick=\"convertToInteractive('df-237f28fc-9b77-4295-9b27-e9fbf2dd2e73')\"\n",
              "              title=\"Convert this dataframe to an interactive table.\"\n",
              "              style=\"display:none;\">\n",
              "        \n",
              "  <svg xmlns=\"http://www.w3.org/2000/svg\" height=\"24px\"viewBox=\"0 0 24 24\"\n",
              "       width=\"24px\">\n",
              "    <path d=\"M0 0h24v24H0V0z\" fill=\"none\"/>\n",
              "    <path d=\"M18.56 5.44l.94 2.06.94-2.06 2.06-.94-2.06-.94-.94-2.06-.94 2.06-2.06.94zm-11 1L8.5 8.5l.94-2.06 2.06-.94-2.06-.94L8.5 2.5l-.94 2.06-2.06.94zm10 10l.94 2.06.94-2.06 2.06-.94-2.06-.94-.94-2.06-.94 2.06-2.06.94z\"/><path d=\"M17.41 7.96l-1.37-1.37c-.4-.4-.92-.59-1.43-.59-.52 0-1.04.2-1.43.59L10.3 9.45l-7.72 7.72c-.78.78-.78 2.05 0 2.83L4 21.41c.39.39.9.59 1.41.59.51 0 1.02-.2 1.41-.59l7.78-7.78 2.81-2.81c.8-.78.8-2.07 0-2.86zM5.41 20L4 18.59l7.72-7.72 1.47 1.35L5.41 20z\"/>\n",
              "  </svg>\n",
              "      </button>\n",
              "      \n",
              "  <style>\n",
              "    .colab-df-container {\n",
              "      display:flex;\n",
              "      flex-wrap:wrap;\n",
              "      gap: 12px;\n",
              "    }\n",
              "\n",
              "    .colab-df-convert {\n",
              "      background-color: #E8F0FE;\n",
              "      border: none;\n",
              "      border-radius: 50%;\n",
              "      cursor: pointer;\n",
              "      display: none;\n",
              "      fill: #1967D2;\n",
              "      height: 32px;\n",
              "      padding: 0 0 0 0;\n",
              "      width: 32px;\n",
              "    }\n",
              "\n",
              "    .colab-df-convert:hover {\n",
              "      background-color: #E2EBFA;\n",
              "      box-shadow: 0px 1px 2px rgba(60, 64, 67, 0.3), 0px 1px 3px 1px rgba(60, 64, 67, 0.15);\n",
              "      fill: #174EA6;\n",
              "    }\n",
              "\n",
              "    [theme=dark] .colab-df-convert {\n",
              "      background-color: #3B4455;\n",
              "      fill: #D2E3FC;\n",
              "    }\n",
              "\n",
              "    [theme=dark] .colab-df-convert:hover {\n",
              "      background-color: #434B5C;\n",
              "      box-shadow: 0px 1px 3px 1px rgba(0, 0, 0, 0.15);\n",
              "      filter: drop-shadow(0px 1px 2px rgba(0, 0, 0, 0.3));\n",
              "      fill: #FFFFFF;\n",
              "    }\n",
              "  </style>\n",
              "\n",
              "      <script>\n",
              "        const buttonEl =\n",
              "          document.querySelector('#df-237f28fc-9b77-4295-9b27-e9fbf2dd2e73 button.colab-df-convert');\n",
              "        buttonEl.style.display =\n",
              "          google.colab.kernel.accessAllowed ? 'block' : 'none';\n",
              "\n",
              "        async function convertToInteractive(key) {\n",
              "          const element = document.querySelector('#df-237f28fc-9b77-4295-9b27-e9fbf2dd2e73');\n",
              "          const dataTable =\n",
              "            await google.colab.kernel.invokeFunction('convertToInteractive',\n",
              "                                                     [key], {});\n",
              "          if (!dataTable) return;\n",
              "\n",
              "          const docLinkHtml = 'Like what you see? Visit the ' +\n",
              "            '<a target=\"_blank\" href=https://colab.research.google.com/notebooks/data_table.ipynb>data table notebook</a>'\n",
              "            + ' to learn more about interactive tables.';\n",
              "          element.innerHTML = '';\n",
              "          dataTable['output_type'] = 'display_data';\n",
              "          await google.colab.output.renderOutput(dataTable, element);\n",
              "          const docLink = document.createElement('div');\n",
              "          docLink.innerHTML = docLinkHtml;\n",
              "          element.appendChild(docLink);\n",
              "        }\n",
              "      </script>\n",
              "    </div>\n",
              "  </div>\n",
              "  "
            ],
            "text/plain": [
              "                                                text  \\\n",
              "0  Водитель-экспедитор Водитель-экспедитор катего...   \n",
              "1  Кладовщик-комплектовщик/оператор 1С Обязанност...   \n",
              "2  Продавец магазина \"Магнит\" (Кировский р-он, В....   \n",
              "3  Администратор магазина (ТЦ Spar) Крупная федер...   \n",
              "4  Мойщик посуды (кулинария) Обязанности:  Уборка...   \n",
              "\n",
              "                                              skills  experience  schedule  \\\n",
              "0                                                              2         2   \n",
              "1  знание пк работа в 1С Работа в команде Складск...           1         2   \n",
              "2                                                              0         3   \n",
              "3                                                              1         2   \n",
              "4  Пользователь ПК Грамотная речь Работа с оргтех...           0         3   \n",
              "\n",
              "   employment  \n",
              "0           0  \n",
              "1           0  \n",
              "2           0  \n",
              "3           0  \n",
              "4           0  "
            ]
          },
          "execution_count": 30,
          "metadata": {},
          "output_type": "execute_result"
        }
      ],
      "source": [
        "df_train_new.head()"
      ]
    },
    {
      "cell_type": "code",
      "execution_count": null,
      "metadata": {
        "id": "ceRoNz5oYKLy"
      },
      "outputs": [],
      "source": [
        "#df_train_new = pd.get_dummies(df_train_new, columns = ['experience', 'schedule', 'employment'], drop_first = True)"
      ]
    },
    {
      "cell_type": "code",
      "execution_count": null,
      "metadata": {
        "id": "fBlx_3l9Zc2C"
      },
      "outputs": [],
      "source": [
        "from spacy.lang.ru.stop_words import STOP_WORDS"
      ]
    },
    {
      "cell_type": "code",
      "execution_count": null,
      "metadata": {
        "id": "tIyYtoKxOE6t"
      },
      "outputs": [],
      "source": [
        "stop_words = set(stopwords.words('russian'))\n",
        "STOP_WORDS.update(stop_words)\n",
        "STOP_WORDS.update(['telegram', 'whats app', 'whatsapp', 'viber']) #эти слова встречаются только как указание способа связи\n",
        "morph = MorphAnalyzer()\n",
        "\n",
        "# функция для очистки описаний\n",
        "def clean_text(text):\n",
        "    text = re.sub(r'http\\S+', '', text) # избавляемся от ссылок\n",
        "    text = re.sub('[^а-яёА-ЯЁa-zA-Z]', ' ', text) # оставляем только кириллицу и латиницу\n",
        "    text = word_tokenize(text.lower()) # приводим к нижнему регистру и токенизируем по словам\n",
        "    # приводим токены к нормальной форме, удаляем стоп-слова и короткие токены\n",
        "    text = [morph.normal_forms(token)[0] for token in text \n",
        "            if token not in STOP_WORDS and len(token) > 2]\n",
        "    text = \" \".join(text) # возвращаем строку\n",
        "    return text"
      ]
    },
    {
      "cell_type": "code",
      "execution_count": null,
      "metadata": {
        "colab": {
          "base_uri": "https://localhost:8080/",
          "height": 116
        },
        "id": "cyjAb_YkTdbl",
        "outputId": "124962a0-3a9d-4df5-936c-f3391667fd2f"
      },
      "outputs": [
        {
          "data": {
            "application/vnd.google.colaboratory.intrinsic+json": {
              "type": "string"
            },
            "text/plain": [
              "'водитель экспедитор водитель экспедитор категория газель тент газель цельнометаллический газ фургон обязанность развоз товар точка черта владимир область график доставка товар москва иваново рязань экспедирование приёмка передача товар точка разгрузка товар точка материальный ответственность транспортный средство груз товаросопроводительный документ содержание подотчётный транспортный средство технически исправный рабочий состояние мелкий текущий ремонт техобслуживание требование наличие водительский удостоверение категория спокойствие выносливость достаточный подготовка вежливость опыт текущий ремонт техобслуживание отечественный транспортный средство условие выплата заработок раз месяц отпуск раз год осень весна календарный день официальный трудоустройство соцпакет'"
            ]
          },
          "execution_count": 110,
          "metadata": {},
          "output_type": "execute_result"
        }
      ],
      "source": [
        "clean_text(df_train_new.text[0])"
      ]
    },
    {
      "cell_type": "code",
      "execution_count": null,
      "metadata": {
        "colab": {
          "base_uri": "https://localhost:8080/",
          "height": 360
        },
        "id": "EJ38wqUkOJ5h",
        "outputId": "20a5b9c1-9788-4611-d179-6da1af5aab10"
      },
      "outputs": [
        {
          "name": "stdout",
          "output_type": "stream",
          "text": [
            "CPU times: user 6min 19s, sys: 1.06 s, total: 6min 20s\n",
            "Wall time: 6min 25s\n"
          ]
        },
        {
          "data": {
            "text/html": [
              "\n",
              "  <div id=\"df-24f4ba76-4834-44a7-9fa8-8c5a03280751\">\n",
              "    <div class=\"colab-df-container\">\n",
              "      <div>\n",
              "<style scoped>\n",
              "    .dataframe tbody tr th:only-of-type {\n",
              "        vertical-align: middle;\n",
              "    }\n",
              "\n",
              "    .dataframe tbody tr th {\n",
              "        vertical-align: top;\n",
              "    }\n",
              "\n",
              "    .dataframe thead th {\n",
              "        text-align: right;\n",
              "    }\n",
              "</style>\n",
              "<table border=\"1\" class=\"dataframe\">\n",
              "  <thead>\n",
              "    <tr style=\"text-align: right;\">\n",
              "      <th></th>\n",
              "      <th>text</th>\n",
              "      <th>skills</th>\n",
              "      <th>experience</th>\n",
              "      <th>schedule</th>\n",
              "      <th>employment</th>\n",
              "      <th>cleaned</th>\n",
              "    </tr>\n",
              "  </thead>\n",
              "  <tbody>\n",
              "    <tr>\n",
              "      <th>0</th>\n",
              "      <td>Водитель-экспедитор Водитель-экспедитор катего...</td>\n",
              "      <td></td>\n",
              "      <td>2</td>\n",
              "      <td>2</td>\n",
              "      <td>0</td>\n",
              "      <td>водитель экспедитор водитель экспедитор катего...</td>\n",
              "    </tr>\n",
              "    <tr>\n",
              "      <th>1</th>\n",
              "      <td>Кладовщик-комплектовщик/оператор 1С Обязанност...</td>\n",
              "      <td>знание работа работа команда складской учёт ск...</td>\n",
              "      <td>1</td>\n",
              "      <td>2</td>\n",
              "      <td>0</td>\n",
              "      <td>кладовщик комплектовщик оператор обязанность с...</td>\n",
              "    </tr>\n",
              "    <tr>\n",
              "      <th>2</th>\n",
              "      <td>Продавец магазина \"Магнит\" (Кировский р-он, В....</td>\n",
              "      <td></td>\n",
              "      <td>0</td>\n",
              "      <td>3</td>\n",
              "      <td>0</td>\n",
              "      <td>продавец магазин магнит кировский уса крупный ...</td>\n",
              "    </tr>\n",
              "    <tr>\n",
              "      <th>3</th>\n",
              "      <td>Администратор магазина (ТЦ Spar) Крупная федер...</td>\n",
              "      <td></td>\n",
              "      <td>1</td>\n",
              "      <td>2</td>\n",
              "      <td>0</td>\n",
              "      <td>администратор магазин spar крупный федеральный...</td>\n",
              "    </tr>\n",
              "    <tr>\n",
              "      <th>4</th>\n",
              "      <td>Мойщик посуды (кулинария) Обязанности:  Уборка...</td>\n",
              "      <td>пользователь грамотный речь работа оргтехника ...</td>\n",
              "      <td>0</td>\n",
              "      <td>3</td>\n",
              "      <td>0</td>\n",
              "      <td>мойщик посуда кулинария обязанность уборка про...</td>\n",
              "    </tr>\n",
              "  </tbody>\n",
              "</table>\n",
              "</div>\n",
              "      <button class=\"colab-df-convert\" onclick=\"convertToInteractive('df-24f4ba76-4834-44a7-9fa8-8c5a03280751')\"\n",
              "              title=\"Convert this dataframe to an interactive table.\"\n",
              "              style=\"display:none;\">\n",
              "        \n",
              "  <svg xmlns=\"http://www.w3.org/2000/svg\" height=\"24px\"viewBox=\"0 0 24 24\"\n",
              "       width=\"24px\">\n",
              "    <path d=\"M0 0h24v24H0V0z\" fill=\"none\"/>\n",
              "    <path d=\"M18.56 5.44l.94 2.06.94-2.06 2.06-.94-2.06-.94-.94-2.06-.94 2.06-2.06.94zm-11 1L8.5 8.5l.94-2.06 2.06-.94-2.06-.94L8.5 2.5l-.94 2.06-2.06.94zm10 10l.94 2.06.94-2.06 2.06-.94-2.06-.94-.94-2.06-.94 2.06-2.06.94z\"/><path d=\"M17.41 7.96l-1.37-1.37c-.4-.4-.92-.59-1.43-.59-.52 0-1.04.2-1.43.59L10.3 9.45l-7.72 7.72c-.78.78-.78 2.05 0 2.83L4 21.41c.39.39.9.59 1.41.59.51 0 1.02-.2 1.41-.59l7.78-7.78 2.81-2.81c.8-.78.8-2.07 0-2.86zM5.41 20L4 18.59l7.72-7.72 1.47 1.35L5.41 20z\"/>\n",
              "  </svg>\n",
              "      </button>\n",
              "      \n",
              "  <style>\n",
              "    .colab-df-container {\n",
              "      display:flex;\n",
              "      flex-wrap:wrap;\n",
              "      gap: 12px;\n",
              "    }\n",
              "\n",
              "    .colab-df-convert {\n",
              "      background-color: #E8F0FE;\n",
              "      border: none;\n",
              "      border-radius: 50%;\n",
              "      cursor: pointer;\n",
              "      display: none;\n",
              "      fill: #1967D2;\n",
              "      height: 32px;\n",
              "      padding: 0 0 0 0;\n",
              "      width: 32px;\n",
              "    }\n",
              "\n",
              "    .colab-df-convert:hover {\n",
              "      background-color: #E2EBFA;\n",
              "      box-shadow: 0px 1px 2px rgba(60, 64, 67, 0.3), 0px 1px 3px 1px rgba(60, 64, 67, 0.15);\n",
              "      fill: #174EA6;\n",
              "    }\n",
              "\n",
              "    [theme=dark] .colab-df-convert {\n",
              "      background-color: #3B4455;\n",
              "      fill: #D2E3FC;\n",
              "    }\n",
              "\n",
              "    [theme=dark] .colab-df-convert:hover {\n",
              "      background-color: #434B5C;\n",
              "      box-shadow: 0px 1px 3px 1px rgba(0, 0, 0, 0.15);\n",
              "      filter: drop-shadow(0px 1px 2px rgba(0, 0, 0, 0.3));\n",
              "      fill: #FFFFFF;\n",
              "    }\n",
              "  </style>\n",
              "\n",
              "      <script>\n",
              "        const buttonEl =\n",
              "          document.querySelector('#df-24f4ba76-4834-44a7-9fa8-8c5a03280751 button.colab-df-convert');\n",
              "        buttonEl.style.display =\n",
              "          google.colab.kernel.accessAllowed ? 'block' : 'none';\n",
              "\n",
              "        async function convertToInteractive(key) {\n",
              "          const element = document.querySelector('#df-24f4ba76-4834-44a7-9fa8-8c5a03280751');\n",
              "          const dataTable =\n",
              "            await google.colab.kernel.invokeFunction('convertToInteractive',\n",
              "                                                     [key], {});\n",
              "          if (!dataTable) return;\n",
              "\n",
              "          const docLinkHtml = 'Like what you see? Visit the ' +\n",
              "            '<a target=\"_blank\" href=https://colab.research.google.com/notebooks/data_table.ipynb>data table notebook</a>'\n",
              "            + ' to learn more about interactive tables.';\n",
              "          element.innerHTML = '';\n",
              "          dataTable['output_type'] = 'display_data';\n",
              "          await google.colab.output.renderOutput(dataTable, element);\n",
              "          const docLink = document.createElement('div');\n",
              "          docLink.innerHTML = docLinkHtml;\n",
              "          element.appendChild(docLink);\n",
              "        }\n",
              "      </script>\n",
              "    </div>\n",
              "  </div>\n",
              "  "
            ],
            "text/plain": [
              "                                                text  \\\n",
              "0  Водитель-экспедитор Водитель-экспедитор катего...   \n",
              "1  Кладовщик-комплектовщик/оператор 1С Обязанност...   \n",
              "2  Продавец магазина \"Магнит\" (Кировский р-он, В....   \n",
              "3  Администратор магазина (ТЦ Spar) Крупная федер...   \n",
              "4  Мойщик посуды (кулинария) Обязанности:  Уборка...   \n",
              "\n",
              "                                              skills  experience  schedule  \\\n",
              "0                                                              2         2   \n",
              "1  знание работа работа команда складской учёт ск...           1         2   \n",
              "2                                                              0         3   \n",
              "3                                                              1         2   \n",
              "4  пользователь грамотный речь работа оргтехника ...           0         3   \n",
              "\n",
              "   employment                                            cleaned  \n",
              "0           0  водитель экспедитор водитель экспедитор катего...  \n",
              "1           0  кладовщик комплектовщик оператор обязанность с...  \n",
              "2           0  продавец магазин магнит кировский уса крупный ...  \n",
              "3           0  администратор магазин spar крупный федеральный...  \n",
              "4           0  мойщик посуда кулинария обязанность уборка про...  "
            ]
          },
          "execution_count": 111,
          "metadata": {},
          "output_type": "execute_result"
        }
      ],
      "source": [
        "%time df_train_new['cleaned'] = df_train_new.text.apply(clean_text)\n",
        "df_train_new.head()"
      ]
    },
    {
      "cell_type": "code",
      "execution_count": null,
      "metadata": {
        "id": "XX3UKOm-0Syj"
      },
      "outputs": [],
      "source": [
        "df_train_new['skills'] = df_train_new['skills'].apply(clean_text)"
      ]
    },
    {
      "cell_type": "code",
      "execution_count": null,
      "metadata": {
        "id": "MzVmcgVYT59-"
      },
      "outputs": [],
      "source": [
        "df_train_new.to_csv('clean_train1.csv')"
      ]
    },
    {
      "cell_type": "code",
      "execution_count": null,
      "metadata": {
        "id": "JnTEmaQT0BYC"
      },
      "outputs": [],
      "source": [
        "df_train_new = pd.read_csv('clean_train1.csv')"
      ]
    },
    {
      "cell_type": "markdown",
      "metadata": {
        "id": "WDJabGihRhae"
      },
      "source": [
        "## Биграммы"
      ]
    },
    {
      "cell_type": "code",
      "execution_count": null,
      "metadata": {
        "id": "WIDtIpUzXN45"
      },
      "outputs": [],
      "source": [
        "clean_train = df_train_new.copy()"
      ]
    },
    {
      "cell_type": "code",
      "execution_count": null,
      "metadata": {
        "id": "Sn28eLf-0MTQ"
      },
      "outputs": [],
      "source": [
        "for i in range(len(clean_train)):\n",
        "  if pd.isnull(clean_train.cleaned[i]) == True:\n",
        "    clean_train.cleaned[i] = ''\n",
        "\n",
        "for i in range(len(clean_train)):\n",
        "  if pd.isnull(clean_train.skills[i]) == True:\n",
        "    clean_train.skills[i] = ''"
      ]
    },
    {
      "cell_type": "code",
      "execution_count": null,
      "metadata": {
        "id": "cra4nZL6UnWi"
      },
      "outputs": [],
      "source": [
        "from gensim.models.phrases import Phrases, Phraser"
      ]
    },
    {
      "cell_type": "code",
      "execution_count": null,
      "metadata": {
        "id": "h5tj_4sgS1T-"
      },
      "outputs": [],
      "source": [
        "from natasha import (\n",
        "    Segmenter,\n",
        "    MorphVocab,\n",
        "    \n",
        "    NewsEmbedding,\n",
        "    NewsMorphTagger,\n",
        "    NewsSyntaxParser,\n",
        "    NewsNERTagger,\n",
        "    \n",
        "    PER,\n",
        "    NamesExtractor,\n",
        "\n",
        "    Doc\n",
        ")\n",
        "\n",
        "\n",
        "segmenter = Segmenter()\n",
        "morph_vocab = MorphVocab()\n",
        "\n",
        "emb = NewsEmbedding()\n",
        "morph_tagger = NewsMorphTagger(emb)\n",
        "syntax_parser = NewsSyntaxParser(emb)\n",
        "ner_tagger = NewsNERTagger(emb)\n",
        "\n",
        "names_extractor = NamesExtractor(morph_vocab)"
      ]
    },
    {
      "cell_type": "code",
      "execution_count": null,
      "metadata": {
        "id": "nWKdgw4eSl2z"
      },
      "outputs": [],
      "source": [
        "def to_wordlist(sentences):\n",
        "  wordlist = []\n",
        "  for i in sentences:\n",
        "      wordlist.append(i.split())\n",
        "  return(wordlist)"
      ]
    },
    {
      "cell_type": "code",
      "execution_count": null,
      "metadata": {
        "id": "FHfjw7sQUPDQ"
      },
      "outputs": [],
      "source": [
        "train_words = to_wordlist(clean_train.cleaned)"
      ]
    },
    {
      "cell_type": "code",
      "execution_count": null,
      "metadata": {
        "id": "8NBbA3LaZIJP"
      },
      "outputs": [],
      "source": [
        "train_words[:2]"
      ]
    },
    {
      "cell_type": "code",
      "execution_count": null,
      "metadata": {
        "id": "3eggrjtsc_C_"
      },
      "outputs": [],
      "source": [
        "train_skills = to_wordlist(clean_train.skills)"
      ]
    },
    {
      "cell_type": "code",
      "execution_count": null,
      "metadata": {
        "colab": {
          "base_uri": "https://localhost:8080/"
        },
        "id": "bGccqLr2dDnw",
        "outputId": "df400320-3bc8-47f2-9613-8dd2a53371c1"
      },
      "outputs": [
        {
          "data": {
            "text/plain": [
              "['знание',\n",
              " 'работа',\n",
              " 'работа',\n",
              " 'команда',\n",
              " 'складской',\n",
              " 'учёт',\n",
              " 'складской',\n",
              " 'документооборот',\n",
              " 'производство',\n",
              " 'организация',\n",
              " 'движение',\n",
              " 'учёт',\n",
              " 'документ',\n",
              " 'internet',\n",
              " 'работа',\n",
              " 'тмц',\n",
              " 'контроль',\n",
              " 'отгрузка',\n",
              " 'ориентация',\n",
              " 'результат']"
            ]
          },
          "execution_count": 119,
          "metadata": {},
          "output_type": "execute_result"
        }
      ],
      "source": [
        "train_skills[1]"
      ]
    },
    {
      "cell_type": "code",
      "execution_count": null,
      "metadata": {
        "colab": {
          "base_uri": "https://localhost:8080/"
        },
        "id": "OSpYYoMLUUyS",
        "outputId": "5d88eb0e-dfd6-43bb-87e1-323618301703"
      },
      "outputs": [
        {
          "name": "stderr",
          "output_type": "stream",
          "text": [
            "/usr/local/lib/python3.8/dist-packages/gensim/models/phrases.py:598: UserWarning: For a faster implementation, use the gensim.models.phrases.Phraser class\n",
            "  warnings.warn(\"For a faster implementation, use the gensim.models.phrases.Phraser class\")\n"
          ]
        }
      ],
      "source": [
        "bigram = Phrases(train_words, min_count=3)\n",
        "trigram = Phrases(bigram[train_words], min_count=3)"
      ]
    },
    {
      "cell_type": "code",
      "execution_count": null,
      "metadata": {
        "id": "R6CYQ_YzdIuA"
      },
      "outputs": [],
      "source": [
        "bigram_sk = Phrases(train_skills, min_count=3)\n",
        "trigram_sk = Phrases(bigram[train_skills], min_count=3)"
      ]
    },
    {
      "cell_type": "code",
      "execution_count": null,
      "metadata": {
        "colab": {
          "base_uri": "https://localhost:8080/"
        },
        "id": "Kxi4vWhKbbxi",
        "outputId": "f168791d-b277-4606-cdda-cf8a0ff3dc7d"
      },
      "outputs": [
        {
          "name": "stdout",
          "output_type": "stream",
          "text": [
            "[]\n",
            "['знание', 'работа', 'работа', 'команда', 'складской_учёт', 'складской_документооборот', 'производство', 'организация_движение', 'учёт', 'документ', 'internet', 'работа', 'тмц', 'контроль_отгрузка', 'ориентация_результат']\n",
            "[]\n",
            "[]\n",
            "['пользователь', 'грамотный_речь', 'работа', 'оргтехника', 'проведение_инвентаризация', 'аналитический_способность']\n"
          ]
        }
      ],
      "source": [
        "for i in trigram_sk[train_skills][:5]:\n",
        "  print(i)"
      ]
    },
    {
      "cell_type": "markdown",
      "metadata": {
        "id": "VfYguMD6lcVq"
      },
      "source": [
        "### TF-IDF"
      ]
    },
    {
      "cell_type": "code",
      "execution_count": null,
      "metadata": {
        "id": "OOWqPYaqaBNq"
      },
      "outputs": [],
      "source": [
        "def dummy_preprocessor(doc):\n",
        "    return doc\n",
        "\n",
        "def get_tf_idf_dic(vectorizer, #tf-idf vectorizer is initialized before calling the function\n",
        "               trigram, #Phraser is fitted before calling the function and is passed after training\n",
        "               data, \n",
        "               fit = bool):\n",
        "  if fit == True: #True when transforming train data, False when transforming test data (because we should not fit it)\n",
        "    X = vectorizer.fit_transform(trigram[data])\n",
        "  else:\n",
        "    X = vectorizer.transform(trigram[data])\n",
        "\n",
        "  feature_names = np.array(vectorizer.get_feature_names_out())\n",
        "  print('Размер матрицы X: ', X.size)\n",
        "\n",
        "  feature_index = X.nonzero()[1]\n",
        "  tfidf_scores = zip(feature_index, [X[0, x] for x in feature_index])\n",
        "\n",
        "  tfidf_dic = {}\n",
        "\n",
        "  for (i, s) in tfidf_scores:\n",
        "    tfidf_dic[feature_names[i]] = s \n",
        "\n",
        "  return tfidf_dic\n",
        "\n",
        "def get_norm_tf(tfidf_dic, max, min):\n",
        "  tfidf = pd.DataFrame()\n",
        "  tfidf['word'] = tfidf_dic.keys()\n",
        "  tfidf['tf-idf'] = tfidf_dic.values()\n",
        "\n",
        "  X = tfidf['tf-idf']\n",
        "  tf_std = (X - X.min(axis=0)) / (X.max(axis=0) - X.min(axis=0))\n",
        "  tf_scaled = tf_std * (max - min) + min\n",
        "  tfidf['norm'] = tf_scaled\n",
        "\n",
        "  dic_tf = {}\n",
        "  for i in range(len(tfidf)):\n",
        "     dic_tf[tfidf['word'][i]] = tfidf['norm'][i]\n",
        "  return tfidf, dic_tf"
      ]
    },
    {
      "cell_type": "code",
      "execution_count": null,
      "metadata": {
        "id": "wroYE8cVPedH"
      },
      "outputs": [],
      "source": [
        "tfidf_vectorizer = TfidfVectorizer(tokenizer=dummy_preprocessor,\n",
        "                                   preprocessor=dummy_preprocessor,\n",
        "                                   max_df=0.9) #убираем слишком часто встречающиеся слова"
      ]
    },
    {
      "cell_type": "code",
      "execution_count": null,
      "metadata": {
        "colab": {
          "base_uri": "https://localhost:8080/"
        },
        "id": "fvOahy_UNKYO",
        "outputId": "5f99822c-b508-444b-e9f2-1c77c3f9c943"
      },
      "outputs": [
        {
          "name": "stderr",
          "output_type": "stream",
          "text": [
            "/usr/local/lib/python3.8/dist-packages/gensim/models/phrases.py:598: UserWarning: For a faster implementation, use the gensim.models.phrases.Phraser class\n",
            "  warnings.warn(\"For a faster implementation, use the gensim.models.phrases.Phraser class\")\n",
            "/usr/local/lib/python3.8/dist-packages/sklearn/feature_extraction/text.py:528: UserWarning: The parameter 'token_pattern' will not be used since 'tokenizer' is not None'\n",
            "  warnings.warn(\n"
          ]
        },
        {
          "name": "stdout",
          "output_type": "stream",
          "text": [
            "Размер матрицы X:  1067284\n"
          ]
        }
      ],
      "source": [
        "#TF-IDF for train data (description)\n",
        "tf_train = get_tf_idf_dic(tfidf_vectorizer, \n",
        "                          trigram,\n",
        "                          train_words,\n",
        "                          fit = True)\n",
        "tf_df_train, dic_tf_train = get_norm_tf(tf_train, max = 2, min = 0.5)"
      ]
    },
    {
      "cell_type": "code",
      "execution_count": null,
      "metadata": {
        "id": "PMmYwhr8iWt9"
      },
      "outputs": [],
      "source": [
        "for i in range(len(train_skills)):\n",
        "  if train_skills[i] == []:\n",
        "    train_skills[i] = ['нет']"
      ]
    },
    {
      "cell_type": "code",
      "execution_count": null,
      "metadata": {
        "colab": {
          "base_uri": "https://localhost:8080/"
        },
        "id": "DxZlSmVPN0Zu",
        "outputId": "baf839c3-8e18-44aa-a440-e58f4d0b6529"
      },
      "outputs": [
        {
          "name": "stdout",
          "output_type": "stream",
          "text": [
            "Размер матрицы X:  84693\n"
          ]
        }
      ],
      "source": [
        "#TF-IDF for train data (description)\n",
        "tf_sk_train = get_tf_idf_dic(tfidf_vectorizer, \n",
        "                          trigram_sk,\n",
        "                          train_skills,\n",
        "                          fit = True)\n",
        "tf_df_sk_train, dic_tf_sk_train = get_norm_tf(tf_sk_train, max = 2, min = 0.5)"
      ]
    },
    {
      "cell_type": "code",
      "execution_count": null,
      "metadata": {
        "id": "TqvBUHICkbYH"
      },
      "outputs": [],
      "source": [
        "tf_df_sk_train.head()"
      ]
    },
    {
      "cell_type": "code",
      "execution_count": null,
      "metadata": {
        "id": "JW4pYFv4bLl2"
      },
      "outputs": [],
      "source": [
        "#УСРЕДНЕНИЕ СКИЛЛОВ С ДЕСКРИПШНОМ\n",
        "count = 0\n",
        "for (i, s) in tfidf_scores_sk:\n",
        "  if tf_feature_names_sk[i] not in tfidf_dic.keys():\n",
        "     tfidf_dic[tf_feature_names_sk[i]] = s \n",
        "     count +=1\n",
        "  else:\n",
        "    tfidf_dic[tf_feature_names_sk[i]] = np.average([tfidf_dic[tf_feature_names_sk[i]], s], weights = [2,1])"
      ]
    },
    {
      "cell_type": "code",
      "execution_count": null,
      "metadata": {
        "id": "0djEicu4Y5rq"
      },
      "outputs": [],
      "source": [
        "tfidf.to_csv('tfidf.csv')"
      ]
    },
    {
      "cell_type": "markdown",
      "metadata": {
        "id": "wacNFDcTlfvo"
      },
      "source": [
        "# Test data"
      ]
    },
    {
      "cell_type": "markdown",
      "metadata": {
        "id": "0DitT4y8PPYz"
      },
      "source": [
        "## Чистим данные"
      ]
    },
    {
      "cell_type": "code",
      "execution_count": null,
      "metadata": {
        "id": "rdkWnyCgXEl7"
      },
      "outputs": [],
      "source": [
        "for i in range(len(df_test)):\n",
        "  try:\n",
        "     if df_test['experience'][i] == 'Нет опыта':\n",
        "        df_test['experience'][i] = '0 опыт'\n",
        "\n",
        "     elif df_test['experience'][i] == 'От 1 года до 3 лет':\n",
        "         df_test['experience'][i] = '1 опыт'\n",
        "\n",
        "     elif df_test['experience'][i] == 'От 3 до 6 лет':\n",
        "         df_test['experience'][i] = '2 опыт'\n",
        "     else :\n",
        "         df_test['experience'][i] = '3 опыт'\n",
        "  except:\n",
        "    print(df_test['experience'][i])\n",
        "\n",
        "df_test['experience_code'] = pd.factorize(df_test.experience, sort=True)[0]\n",
        "df_test['schedule_code'] = pd.factorize(df_test.schedule, sort=True)[0]\n",
        "df_test['employment_code'] = pd.factorize(df_test.employment, sort=True)[0]"
      ]
    },
    {
      "cell_type": "code",
      "execution_count": null,
      "metadata": {
        "colab": {
          "base_uri": "https://localhost:8080/"
        },
        "id": "KJsvzvBmqx4-",
        "outputId": "d47a64a1-f980-4d23-8635-00aaf117d9f7"
      },
      "outputs": [
        {
          "data": {
            "text/plain": [
              "0    2460\n",
              "1    2270\n",
              "2     736\n",
              "3      77\n",
              "Name: experience_code, dtype: int64"
            ]
          },
          "execution_count": 131,
          "metadata": {},
          "output_type": "execute_result"
        }
      ],
      "source": [
        "df_test['experience_code'].value_counts()"
      ]
    },
    {
      "cell_type": "code",
      "execution_count": null,
      "metadata": {
        "colab": {
          "base_uri": "https://localhost:8080/"
        },
        "id": "JmOuyX79dldn",
        "outputId": "6e5b39c3-9c9d-4ff8-ea66-426f6db14b26"
      },
      "outputs": [
        {
          "name": "stderr",
          "output_type": "stream",
          "text": [
            "100%|██████████| 5543/5543 [00:00<00:00, 6640.74it/s]\n"
          ]
        }
      ],
      "source": [
        "skills = []\n",
        "for i in tqdm(range(len(df_test))):\n",
        "  a = literal_eval(df_test['key_skills'][i])\n",
        "  skills.append(a)"
      ]
    },
    {
      "cell_type": "code",
      "execution_count": null,
      "metadata": {
        "id": "LVRe1ysneEg7"
      },
      "outputs": [],
      "source": [
        "df_test['skills'] = skills"
      ]
    },
    {
      "cell_type": "code",
      "execution_count": null,
      "metadata": {
        "id": "Q2Rro2nSeetR"
      },
      "outputs": [],
      "source": [
        "joined_skills = []\n",
        "for i in df_test['skills']:\n",
        "  joined_skills.append(' '.join(i))\n",
        "df_test['joined_skills'] = joined_skills"
      ]
    },
    {
      "cell_type": "code",
      "execution_count": null,
      "metadata": {
        "colab": {
          "base_uri": "https://localhost:8080/",
          "height": 34
        },
        "id": "sFW9xu5ZePxL",
        "outputId": "93afc915-a04c-4055-df47-0f269412289e"
      },
      "outputs": [
        {
          "data": {
            "application/vnd.google.colaboratory.intrinsic+json": {
              "type": "string"
            },
            "text/plain": [
              "'1С: Предприятие 8 1C: Предприятие Работа с документами длительного хранения Работать в команде Работа в коллективе'"
            ]
          },
          "execution_count": 135,
          "metadata": {},
          "output_type": "execute_result"
        }
      ],
      "source": [
        "df_test['joined_skills'][0]"
      ]
    },
    {
      "cell_type": "code",
      "execution_count": null,
      "metadata": {
        "id": "IBnABMaYWwZw"
      },
      "outputs": [],
      "source": [
        "df_test_new = pd.DataFrame()\n",
        "df_test_new['text'] = df_test.name + ' ' + df_test.description\n",
        "df_test_new['skills'] = joined_skills\n",
        "df_test_new['experience'] = df_test['experience_code']\n",
        "df_test_new['schedule'] = df_test['schedule_code']\n",
        "df_test_new['employment'] = df_test['employment_code']"
      ]
    },
    {
      "cell_type": "code",
      "execution_count": null,
      "metadata": {
        "id": "DQV012UoddtQ"
      },
      "outputs": [],
      "source": [
        "df_test_new.head(1)"
      ]
    },
    {
      "cell_type": "code",
      "execution_count": null,
      "metadata": {
        "colab": {
          "base_uri": "https://localhost:8080/"
        },
        "id": "nPKAKaare0SP",
        "outputId": "19a19426-2571-4e5b-ee0d-7729d8ab3ca9"
      },
      "outputs": [
        {
          "name": "stdout",
          "output_type": "stream",
          "text": [
            "CPU times: user 2min 5s, sys: 330 ms, total: 2min 6s\n",
            "Wall time: 2min 8s\n"
          ]
        }
      ],
      "source": [
        "%time df_test_new['cleaned'] = df_test_new['text'].apply(clean_text)"
      ]
    },
    {
      "cell_type": "code",
      "execution_count": null,
      "metadata": {
        "id": "Tkqg9i090HkL"
      },
      "outputs": [],
      "source": [
        "df_test_new['skills'] = df_test_new['skills'].apply(clean_text)"
      ]
    },
    {
      "cell_type": "code",
      "execution_count": null,
      "metadata": {
        "id": "-VGjqgYTbk7a"
      },
      "outputs": [],
      "source": [
        "df_test_new.to_csv('clean_test1.csv')"
      ]
    },
    {
      "cell_type": "code",
      "execution_count": null,
      "metadata": {
        "id": "uY7clUVu0bu8"
      },
      "outputs": [],
      "source": [
        "df_test_new = pd.read_csv('clean_test1.csv')"
      ]
    },
    {
      "cell_type": "code",
      "execution_count": null,
      "metadata": {
        "colab": {
          "base_uri": "https://localhost:8080/"
        },
        "id": "r4h1YnNPrErd",
        "outputId": "6d96e739-4cc5-4730-ad13-dd94ad65e52e"
      },
      "outputs": [
        {
          "data": {
            "text/plain": [
              "0    2460\n",
              "1    2270\n",
              "2     736\n",
              "3      77\n",
              "Name: experience, dtype: int64"
            ]
          },
          "execution_count": 142,
          "metadata": {},
          "output_type": "execute_result"
        }
      ],
      "source": [
        "df_test_new['experience'].value_counts()"
      ]
    },
    {
      "cell_type": "code",
      "execution_count": null,
      "metadata": {
        "id": "VUDfb9UreIgQ"
      },
      "outputs": [],
      "source": [
        "clean_test = df_test_new.copy()"
      ]
    },
    {
      "cell_type": "markdown",
      "metadata": {
        "id": "qGX7W5huIrgD"
      },
      "source": [
        "## Обрабатываем текст: биграммы и tf-idf"
      ]
    },
    {
      "cell_type": "code",
      "execution_count": null,
      "metadata": {
        "id": "gzNaIW_rIw_v"
      },
      "outputs": [],
      "source": [
        "for i in range(len(clean_test)):\n",
        "  if pd.isnull(clean_test.cleaned[i]) == True:\n",
        "    clean_test.cleaned[i] = ''\n",
        "\n",
        "for i in range(len(clean_test)):\n",
        "  if pd.isnull(clean_test.skills[i]) == True:\n",
        "    clean_test.skills[i] = ''"
      ]
    },
    {
      "cell_type": "code",
      "execution_count": null,
      "metadata": {
        "id": "jvadjQ5PIeeg"
      },
      "outputs": [],
      "source": [
        "test_words = to_wordlist(clean_test.cleaned)\n",
        "test_skills = to_wordlist(clean_test.skills)"
      ]
    },
    {
      "cell_type": "code",
      "execution_count": null,
      "metadata": {
        "colab": {
          "base_uri": "https://localhost:8080/"
        },
        "id": "E2pTnAt2PaKY",
        "outputId": "8467fe18-838f-4c87-e32f-9d3ab28c802b"
      },
      "outputs": [
        {
          "name": "stderr",
          "output_type": "stream",
          "text": [
            "/usr/local/lib/python3.8/dist-packages/gensim/models/phrases.py:598: UserWarning: For a faster implementation, use the gensim.models.phrases.Phraser class\n",
            "  warnings.warn(\"For a faster implementation, use the gensim.models.phrases.Phraser class\")\n"
          ]
        },
        {
          "name": "stdout",
          "output_type": "stream",
          "text": [
            "Размер матрицы X:  149296\n"
          ]
        }
      ],
      "source": [
        "#TF-IDF for test data (description)\n",
        "tf_test = get_tf_idf_dic(tfidf_vectorizer, \n",
        "                          trigram,\n",
        "                          test_words,\n",
        "                          fit = False)\n",
        "tf_df_test, dic_tf_test = get_norm_tf(tf_test, max = 2, min = 0.5)"
      ]
    },
    {
      "cell_type": "code",
      "execution_count": null,
      "metadata": {
        "id": "1QHIYjeZmTKQ"
      },
      "outputs": [],
      "source": [
        "for i in range(len(test_skills)):\n",
        "  if test_skills[i] == []:\n",
        "    test_skills[i] = ['нет']"
      ]
    },
    {
      "cell_type": "code",
      "execution_count": null,
      "metadata": {
        "colab": {
          "base_uri": "https://localhost:8080/"
        },
        "id": "BABLaxX_PasB",
        "outputId": "b9a3cf74-b7fc-4fbf-d930-1d283f7f64cd"
      },
      "outputs": [
        {
          "name": "stdout",
          "output_type": "stream",
          "text": [
            "Размер матрицы X:  23957\n"
          ]
        }
      ],
      "source": [
        "#TF-IDF for test data (skills)\n",
        "tf_sk_test = get_tf_idf_dic(tfidf_vectorizer, \n",
        "                          trigram,\n",
        "                          test_skills,\n",
        "                          fit = False)\n",
        "tf_df_sk_test, dic_tf_sk_test = get_norm_tf(tf_sk_test, max = 2, min = 0.5)"
      ]
    },
    {
      "cell_type": "code",
      "execution_count": 154,
      "metadata": {
        "colab": {
          "base_uri": "https://localhost:8080/",
          "height": 411
        },
        "id": "_dbsIxBWmbic",
        "outputId": "a04be621-7620-4d36-facc-62676cd9105a"
      },
      "outputs": [
        {
          "output_type": "execute_result",
          "data": {
            "text/plain": [
              "             word    tf-idf      norm\n",
              "0        хранение  0.437774  1.700537\n",
              "1        работать  0.485855  1.832394\n",
              "2          работа  0.254575  1.198138\n",
              "3     предприятие  0.546972  2.000000\n",
              "4         команда  0.145842  0.899953\n",
              "...           ...       ...       ...\n",
              "1333       zabbix  0.000000  0.500000\n",
              "1334        revit  0.000000  0.500000\n",
              "1335         ajax  0.000000  0.500000\n",
              "1336     коучинга  0.000000  0.500000\n",
              "1337       развоз  0.000000  0.500000\n",
              "\n",
              "[1338 rows x 3 columns]"
            ],
            "text/html": [
              "\n",
              "  <div id=\"df-46eb5859-4c32-41ec-9d70-633b386c8617\">\n",
              "    <div class=\"colab-df-container\">\n",
              "      <div>\n",
              "<style scoped>\n",
              "    .dataframe tbody tr th:only-of-type {\n",
              "        vertical-align: middle;\n",
              "    }\n",
              "\n",
              "    .dataframe tbody tr th {\n",
              "        vertical-align: top;\n",
              "    }\n",
              "\n",
              "    .dataframe thead th {\n",
              "        text-align: right;\n",
              "    }\n",
              "</style>\n",
              "<table border=\"1\" class=\"dataframe\">\n",
              "  <thead>\n",
              "    <tr style=\"text-align: right;\">\n",
              "      <th></th>\n",
              "      <th>word</th>\n",
              "      <th>tf-idf</th>\n",
              "      <th>norm</th>\n",
              "    </tr>\n",
              "  </thead>\n",
              "  <tbody>\n",
              "    <tr>\n",
              "      <th>0</th>\n",
              "      <td>хранение</td>\n",
              "      <td>0.437774</td>\n",
              "      <td>1.700537</td>\n",
              "    </tr>\n",
              "    <tr>\n",
              "      <th>1</th>\n",
              "      <td>работать</td>\n",
              "      <td>0.485855</td>\n",
              "      <td>1.832394</td>\n",
              "    </tr>\n",
              "    <tr>\n",
              "      <th>2</th>\n",
              "      <td>работа</td>\n",
              "      <td>0.254575</td>\n",
              "      <td>1.198138</td>\n",
              "    </tr>\n",
              "    <tr>\n",
              "      <th>3</th>\n",
              "      <td>предприятие</td>\n",
              "      <td>0.546972</td>\n",
              "      <td>2.000000</td>\n",
              "    </tr>\n",
              "    <tr>\n",
              "      <th>4</th>\n",
              "      <td>команда</td>\n",
              "      <td>0.145842</td>\n",
              "      <td>0.899953</td>\n",
              "    </tr>\n",
              "    <tr>\n",
              "      <th>...</th>\n",
              "      <td>...</td>\n",
              "      <td>...</td>\n",
              "      <td>...</td>\n",
              "    </tr>\n",
              "    <tr>\n",
              "      <th>1333</th>\n",
              "      <td>zabbix</td>\n",
              "      <td>0.000000</td>\n",
              "      <td>0.500000</td>\n",
              "    </tr>\n",
              "    <tr>\n",
              "      <th>1334</th>\n",
              "      <td>revit</td>\n",
              "      <td>0.000000</td>\n",
              "      <td>0.500000</td>\n",
              "    </tr>\n",
              "    <tr>\n",
              "      <th>1335</th>\n",
              "      <td>ajax</td>\n",
              "      <td>0.000000</td>\n",
              "      <td>0.500000</td>\n",
              "    </tr>\n",
              "    <tr>\n",
              "      <th>1336</th>\n",
              "      <td>коучинга</td>\n",
              "      <td>0.000000</td>\n",
              "      <td>0.500000</td>\n",
              "    </tr>\n",
              "    <tr>\n",
              "      <th>1337</th>\n",
              "      <td>развоз</td>\n",
              "      <td>0.000000</td>\n",
              "      <td>0.500000</td>\n",
              "    </tr>\n",
              "  </tbody>\n",
              "</table>\n",
              "<p>1338 rows × 3 columns</p>\n",
              "</div>\n",
              "      <button class=\"colab-df-convert\" onclick=\"convertToInteractive('df-46eb5859-4c32-41ec-9d70-633b386c8617')\"\n",
              "              title=\"Convert this dataframe to an interactive table.\"\n",
              "              style=\"display:none;\">\n",
              "        \n",
              "  <svg xmlns=\"http://www.w3.org/2000/svg\" height=\"24px\"viewBox=\"0 0 24 24\"\n",
              "       width=\"24px\">\n",
              "    <path d=\"M0 0h24v24H0V0z\" fill=\"none\"/>\n",
              "    <path d=\"M18.56 5.44l.94 2.06.94-2.06 2.06-.94-2.06-.94-.94-2.06-.94 2.06-2.06.94zm-11 1L8.5 8.5l.94-2.06 2.06-.94-2.06-.94L8.5 2.5l-.94 2.06-2.06.94zm10 10l.94 2.06.94-2.06 2.06-.94-2.06-.94-.94-2.06-.94 2.06-2.06.94z\"/><path d=\"M17.41 7.96l-1.37-1.37c-.4-.4-.92-.59-1.43-.59-.52 0-1.04.2-1.43.59L10.3 9.45l-7.72 7.72c-.78.78-.78 2.05 0 2.83L4 21.41c.39.39.9.59 1.41.59.51 0 1.02-.2 1.41-.59l7.78-7.78 2.81-2.81c.8-.78.8-2.07 0-2.86zM5.41 20L4 18.59l7.72-7.72 1.47 1.35L5.41 20z\"/>\n",
              "  </svg>\n",
              "      </button>\n",
              "      \n",
              "  <style>\n",
              "    .colab-df-container {\n",
              "      display:flex;\n",
              "      flex-wrap:wrap;\n",
              "      gap: 12px;\n",
              "    }\n",
              "\n",
              "    .colab-df-convert {\n",
              "      background-color: #E8F0FE;\n",
              "      border: none;\n",
              "      border-radius: 50%;\n",
              "      cursor: pointer;\n",
              "      display: none;\n",
              "      fill: #1967D2;\n",
              "      height: 32px;\n",
              "      padding: 0 0 0 0;\n",
              "      width: 32px;\n",
              "    }\n",
              "\n",
              "    .colab-df-convert:hover {\n",
              "      background-color: #E2EBFA;\n",
              "      box-shadow: 0px 1px 2px rgba(60, 64, 67, 0.3), 0px 1px 3px 1px rgba(60, 64, 67, 0.15);\n",
              "      fill: #174EA6;\n",
              "    }\n",
              "\n",
              "    [theme=dark] .colab-df-convert {\n",
              "      background-color: #3B4455;\n",
              "      fill: #D2E3FC;\n",
              "    }\n",
              "\n",
              "    [theme=dark] .colab-df-convert:hover {\n",
              "      background-color: #434B5C;\n",
              "      box-shadow: 0px 1px 3px 1px rgba(0, 0, 0, 0.15);\n",
              "      filter: drop-shadow(0px 1px 2px rgba(0, 0, 0, 0.3));\n",
              "      fill: #FFFFFF;\n",
              "    }\n",
              "  </style>\n",
              "\n",
              "      <script>\n",
              "        const buttonEl =\n",
              "          document.querySelector('#df-46eb5859-4c32-41ec-9d70-633b386c8617 button.colab-df-convert');\n",
              "        buttonEl.style.display =\n",
              "          google.colab.kernel.accessAllowed ? 'block' : 'none';\n",
              "\n",
              "        async function convertToInteractive(key) {\n",
              "          const element = document.querySelector('#df-46eb5859-4c32-41ec-9d70-633b386c8617');\n",
              "          const dataTable =\n",
              "            await google.colab.kernel.invokeFunction('convertToInteractive',\n",
              "                                                     [key], {});\n",
              "          if (!dataTable) return;\n",
              "\n",
              "          const docLinkHtml = 'Like what you see? Visit the ' +\n",
              "            '<a target=\"_blank\" href=https://colab.research.google.com/notebooks/data_table.ipynb>data table notebook</a>'\n",
              "            + ' to learn more about interactive tables.';\n",
              "          element.innerHTML = '';\n",
              "          dataTable['output_type'] = 'display_data';\n",
              "          await google.colab.output.renderOutput(dataTable, element);\n",
              "          const docLink = document.createElement('div');\n",
              "          docLink.innerHTML = docLinkHtml;\n",
              "          element.appendChild(docLink);\n",
              "        }\n",
              "      </script>\n",
              "    </div>\n",
              "  </div>\n",
              "  "
            ]
          },
          "metadata": {},
          "execution_count": 154
        }
      ],
      "source": [
        "tf_df_sk_test"
      ]
    },
    {
      "cell_type": "markdown",
      "metadata": {
        "id": "s6-TzKOaOfLB"
      },
      "source": [
        "# Word2Vec"
      ]
    },
    {
      "cell_type": "markdown",
      "metadata": {
        "id": "9XmWhyUk5qJ-"
      },
      "source": [
        "### Модель для описания"
      ]
    },
    {
      "cell_type": "code",
      "execution_count": null,
      "metadata": {
        "id": "0vGw2epiOg9o"
      },
      "outputs": [],
      "source": [
        "w2v_model_words = Word2Vec(sentences=list(clean_train.cleaned.str.split()),\n",
        "                     size=300, window=30, workers=4, min_count=0)"
      ]
    },
    {
      "cell_type": "code",
      "execution_count": null,
      "metadata": {
        "colab": {
          "background_save": true,
          "base_uri": "https://localhost:8080/"
        },
        "id": "aZy9ebsgU0m_",
        "outputId": "3dfb163b-72d7-4481-c418-87601bac67fa"
      },
      "outputs": [
        {
          "name": "stderr",
          "output_type": "stream",
          "text": [
            "/usr/local/lib/python3.8/dist-packages/gensim/models/phrases.py:598: UserWarning: For a faster implementation, use the gensim.models.phrases.Phraser class\n",
            "  warnings.warn(\"For a faster implementation, use the gensim.models.phrases.Phraser class\")\n",
            "WARNING:gensim.models.base_any2vec:Effective 'alpha' higher than previous training cycles\n"
          ]
        },
        {
          "data": {
            "text/plain": [
              "(11601177, 12621780)"
            ]
          },
          "execution_count": 152,
          "metadata": {},
          "output_type": "execute_result"
        }
      ],
      "source": [
        "w2v_model_words.build_vocab(trigram[train_words], update=True)\n",
        "w2v_model_words.train(trigram[train_words], total_examples=w2v_model_words.corpus_count, epochs=10)"
      ]
    },
    {
      "cell_type": "code",
      "execution_count": 155,
      "metadata": {
        "colab": {
          "base_uri": "https://localhost:8080/"
        },
        "id": "TY-foC8_UyBq",
        "outputId": "146a61f9-2235-428c-faf4-8c18726fe3e3"
      },
      "outputs": [
        {
          "output_type": "execute_result",
          "data": {
            "text/plain": [
              "[('продавец_консультант', 0.7397712469100952),\n",
              " ('консультант', 0.7150602340698242),\n",
              " ('продавец_кассир', 0.641340970993042),\n",
              " ('должность_продавец', 0.6270184516906738),\n",
              " ('молл', 0.5872318148612976),\n",
              " ('кассир', 0.5828865766525269),\n",
              " ('иупаковка', 0.5793876051902771),\n",
              " ('трц', 0.5757585167884827),\n",
              " ('выкладка', 0.5661661624908447),\n",
              " ('бутик', 0.5652084946632385)]"
            ]
          },
          "metadata": {},
          "execution_count": 155
        }
      ],
      "source": [
        "w2v_model_words.wv.most_similar(positive=['продавец'], topn=10)"
      ]
    },
    {
      "cell_type": "code",
      "execution_count": 156,
      "metadata": {
        "id": "7aIXBTDtVXyr"
      },
      "outputs": [],
      "source": [
        "w2v_vectors = w2v_model_words.wv"
      ]
    },
    {
      "cell_type": "code",
      "execution_count": 157,
      "metadata": {
        "colab": {
          "base_uri": "https://localhost:8080/"
        },
        "id": "5mWp9ZGhOmqL",
        "outputId": "0176985b-107b-40c7-91ec-61026d31fb85"
      },
      "outputs": [
        {
          "output_type": "stream",
          "name": "stderr",
          "text": [
            "/usr/local/lib/python3.8/dist-packages/gensim/models/phrases.py:598: UserWarning: For a faster implementation, use the gensim.models.phrases.Phraser class\n",
            "  warnings.warn(\"For a faster implementation, use the gensim.models.phrases.Phraser class\")\n",
            "100%|██████████| 16629/16629 [00:44<00:00, 371.51it/s]\n"
          ]
        }
      ],
      "source": [
        "from packaging.version import VersionComparisonMethod\n",
        "doc_vectors_train = []\n",
        "row = 0\n",
        "\n",
        "for doc in tqdm(trigram[train_words]): #df_train_new.cleaned.str.split()\n",
        "    res = np.zeros(300)\n",
        "    cnt = 0\n",
        "    imp = []\n",
        " \n",
        "    for word in doc:\n",
        "        if w2v_vectors.__contains__(word):\n",
        "            try:\n",
        "              res += w2v_model_words.wv[word]*np.sqrt(dic_tf_train[word])\n",
        "            except:\n",
        "              res += w2v_model_words.wv[word]\n",
        "            cnt += 1\n",
        "    if cnt != 0:\n",
        "        res /= cnt\n",
        "    doc_vectors_train.append(res)\n",
        "\n",
        "doc_vectors_train = np.array(doc_vectors_train)"
      ]
    },
    {
      "cell_type": "code",
      "execution_count": 158,
      "metadata": {
        "colab": {
          "base_uri": "https://localhost:8080/"
        },
        "id": "0HiqKoBfsigF",
        "outputId": "cf24b414-b6cf-4eef-eb12-830c913be051"
      },
      "outputs": [
        {
          "output_type": "stream",
          "name": "stderr",
          "text": [
            "100%|██████████| 5543/5543 [00:07<00:00, 739.60it/s]\n"
          ]
        }
      ],
      "source": [
        "doc_vectors_test = []\n",
        "row = 0\n",
        "\n",
        "for doc in tqdm(trigram[test_words]):\n",
        "    res = np.zeros(300)\n",
        "    cnt = 0\n",
        "    for word in doc:\n",
        "        if w2v_vectors.__contains__(word):\n",
        "            try:\n",
        "              res += w2v_model_words.wv[word]*np.sqrt(dic_tf_test[word])\n",
        "            except:\n",
        "              res += w2v_model_words.wv[word]\n",
        "            cnt += 1\n",
        "    if cnt != 0:\n",
        "        res /= cnt\n",
        "    doc_vectors_test.append(res)\n",
        "\n",
        "doc_vectors_test = np.array(doc_vectors_test)"
      ]
    },
    {
      "cell_type": "markdown",
      "metadata": {
        "id": "r-S1qtmY5tAQ"
      },
      "source": [
        "### Модель для навыков"
      ]
    },
    {
      "cell_type": "code",
      "execution_count": 159,
      "metadata": {
        "id": "GHEErQxR1sVW"
      },
      "outputs": [],
      "source": [
        "for i in range(len(clean_train)):\n",
        "  if pd.isnull(clean_train.skills[i]) == True:\n",
        "    clean_train.skills[i] = ''\n",
        "\n",
        "for i in range(len(clean_test)):\n",
        "  if pd.isnull(clean_test.skills[i]) == True:\n",
        "    clean_test.skills[i] = ''"
      ]
    },
    {
      "cell_type": "code",
      "execution_count": null,
      "metadata": {
        "colab": {
          "base_uri": "https://localhost:8080/",
          "height": 156
        },
        "id": "mHpxDkiAZtVM",
        "outputId": "cb58c997-201e-42e8-bffa-f576b06f9f43"
      },
      "outputs": [
        {
          "data": {
            "text/html": [
              "\n",
              "  <div id=\"df-e7c7a7ec-d0c0-42da-8367-23f4d167bd24\">\n",
              "    <div class=\"colab-df-container\">\n",
              "      <div>\n",
              "<style scoped>\n",
              "    .dataframe tbody tr th:only-of-type {\n",
              "        vertical-align: middle;\n",
              "    }\n",
              "\n",
              "    .dataframe tbody tr th {\n",
              "        vertical-align: top;\n",
              "    }\n",
              "\n",
              "    .dataframe thead th {\n",
              "        text-align: right;\n",
              "    }\n",
              "</style>\n",
              "<table border=\"1\" class=\"dataframe\">\n",
              "  <thead>\n",
              "    <tr style=\"text-align: right;\">\n",
              "      <th></th>\n",
              "      <th>Unnamed: 0</th>\n",
              "      <th>text</th>\n",
              "      <th>skills</th>\n",
              "      <th>experience</th>\n",
              "      <th>schedule</th>\n",
              "      <th>employment</th>\n",
              "      <th>cleaned</th>\n",
              "    </tr>\n",
              "  </thead>\n",
              "  <tbody>\n",
              "    <tr>\n",
              "      <th>0</th>\n",
              "      <td>0</td>\n",
              "      <td>Водитель-экспедитор Водитель-экспедитор катего...</td>\n",
              "      <td></td>\n",
              "      <td>2</td>\n",
              "      <td>2</td>\n",
              "      <td>0</td>\n",
              "      <td>водитель экспедитор водитель экспедитор катего...</td>\n",
              "    </tr>\n",
              "  </tbody>\n",
              "</table>\n",
              "</div>\n",
              "      <button class=\"colab-df-convert\" onclick=\"convertToInteractive('df-e7c7a7ec-d0c0-42da-8367-23f4d167bd24')\"\n",
              "              title=\"Convert this dataframe to an interactive table.\"\n",
              "              style=\"display:none;\">\n",
              "        \n",
              "  <svg xmlns=\"http://www.w3.org/2000/svg\" height=\"24px\"viewBox=\"0 0 24 24\"\n",
              "       width=\"24px\">\n",
              "    <path d=\"M0 0h24v24H0V0z\" fill=\"none\"/>\n",
              "    <path d=\"M18.56 5.44l.94 2.06.94-2.06 2.06-.94-2.06-.94-.94-2.06-.94 2.06-2.06.94zm-11 1L8.5 8.5l.94-2.06 2.06-.94-2.06-.94L8.5 2.5l-.94 2.06-2.06.94zm10 10l.94 2.06.94-2.06 2.06-.94-2.06-.94-.94-2.06-.94 2.06-2.06.94z\"/><path d=\"M17.41 7.96l-1.37-1.37c-.4-.4-.92-.59-1.43-.59-.52 0-1.04.2-1.43.59L10.3 9.45l-7.72 7.72c-.78.78-.78 2.05 0 2.83L4 21.41c.39.39.9.59 1.41.59.51 0 1.02-.2 1.41-.59l7.78-7.78 2.81-2.81c.8-.78.8-2.07 0-2.86zM5.41 20L4 18.59l7.72-7.72 1.47 1.35L5.41 20z\"/>\n",
              "  </svg>\n",
              "      </button>\n",
              "      \n",
              "  <style>\n",
              "    .colab-df-container {\n",
              "      display:flex;\n",
              "      flex-wrap:wrap;\n",
              "      gap: 12px;\n",
              "    }\n",
              "\n",
              "    .colab-df-convert {\n",
              "      background-color: #E8F0FE;\n",
              "      border: none;\n",
              "      border-radius: 50%;\n",
              "      cursor: pointer;\n",
              "      display: none;\n",
              "      fill: #1967D2;\n",
              "      height: 32px;\n",
              "      padding: 0 0 0 0;\n",
              "      width: 32px;\n",
              "    }\n",
              "\n",
              "    .colab-df-convert:hover {\n",
              "      background-color: #E2EBFA;\n",
              "      box-shadow: 0px 1px 2px rgba(60, 64, 67, 0.3), 0px 1px 3px 1px rgba(60, 64, 67, 0.15);\n",
              "      fill: #174EA6;\n",
              "    }\n",
              "\n",
              "    [theme=dark] .colab-df-convert {\n",
              "      background-color: #3B4455;\n",
              "      fill: #D2E3FC;\n",
              "    }\n",
              "\n",
              "    [theme=dark] .colab-df-convert:hover {\n",
              "      background-color: #434B5C;\n",
              "      box-shadow: 0px 1px 3px 1px rgba(0, 0, 0, 0.15);\n",
              "      filter: drop-shadow(0px 1px 2px rgba(0, 0, 0, 0.3));\n",
              "      fill: #FFFFFF;\n",
              "    }\n",
              "  </style>\n",
              "\n",
              "      <script>\n",
              "        const buttonEl =\n",
              "          document.querySelector('#df-e7c7a7ec-d0c0-42da-8367-23f4d167bd24 button.colab-df-convert');\n",
              "        buttonEl.style.display =\n",
              "          google.colab.kernel.accessAllowed ? 'block' : 'none';\n",
              "\n",
              "        async function convertToInteractive(key) {\n",
              "          const element = document.querySelector('#df-e7c7a7ec-d0c0-42da-8367-23f4d167bd24');\n",
              "          const dataTable =\n",
              "            await google.colab.kernel.invokeFunction('convertToInteractive',\n",
              "                                                     [key], {});\n",
              "          if (!dataTable) return;\n",
              "\n",
              "          const docLinkHtml = 'Like what you see? Visit the ' +\n",
              "            '<a target=\"_blank\" href=https://colab.research.google.com/notebooks/data_table.ipynb>data table notebook</a>'\n",
              "            + ' to learn more about interactive tables.';\n",
              "          element.innerHTML = '';\n",
              "          dataTable['output_type'] = 'display_data';\n",
              "          await google.colab.output.renderOutput(dataTable, element);\n",
              "          const docLink = document.createElement('div');\n",
              "          docLink.innerHTML = docLinkHtml;\n",
              "          element.appendChild(docLink);\n",
              "        }\n",
              "      </script>\n",
              "    </div>\n",
              "  </div>\n",
              "  "
            ],
            "text/plain": [
              "   Unnamed: 0                                               text skills  \\\n",
              "0           0  Водитель-экспедитор Водитель-экспедитор катего...          \n",
              "\n",
              "   experience  schedule  employment  \\\n",
              "0           2         2           0   \n",
              "\n",
              "                                             cleaned  \n",
              "0  водитель экспедитор водитель экспедитор катего...  "
            ]
          },
          "execution_count": 162,
          "metadata": {},
          "output_type": "execute_result"
        }
      ],
      "source": [
        "clean_train.head(1)"
      ]
    },
    {
      "cell_type": "code",
      "execution_count": 160,
      "metadata": {
        "id": "lkhGIQXK5vhN"
      },
      "outputs": [],
      "source": [
        "w2v_model_skills = Word2Vec(sentences=list(clean_train.skills.str.split()),\n",
        "                     size=64, window=20, workers=4, min_count=0)"
      ]
    },
    {
      "cell_type": "code",
      "execution_count": 161,
      "metadata": {
        "colab": {
          "base_uri": "https://localhost:8080/"
        },
        "id": "f3ar66d-dfEO",
        "outputId": "4a9de11f-8773-40c1-e3f0-79b9d52562e6"
      },
      "outputs": [
        {
          "output_type": "stream",
          "name": "stderr",
          "text": [
            "WARNING:gensim.models.base_any2vec:Effective 'alpha' higher than previous training cycles\n"
          ]
        },
        {
          "output_type": "execute_result",
          "data": {
            "text/plain": [
              "(610673, 910580)"
            ]
          },
          "metadata": {},
          "execution_count": 161
        }
      ],
      "source": [
        "w2v_model_skills.build_vocab(trigram_sk[train_skills], update=True)\n",
        "w2v_model_skills.train(trigram_sk[train_skills], total_examples=w2v_model_skills.corpus_count, epochs=10)"
      ]
    },
    {
      "cell_type": "code",
      "execution_count": 162,
      "metadata": {
        "colab": {
          "base_uri": "https://localhost:8080/"
        },
        "id": "ji0Qvxrq53dr",
        "outputId": "e127e106-b1c4-40b2-b0ef-43e98e31c7fd"
      },
      "outputs": [
        {
          "output_type": "execute_result",
          "data": {
            "text/plain": [
              "[('английский_язык', 0.9158176183700562),\n",
              " ('язык', 0.9032610654830933),\n",
              " ('испанский', 0.8072441816329956),\n",
              " ('преподаватель_английский', 0.796558141708374),\n",
              " ('средне', 0.7938220500946045),\n",
              " ('подготовка_презентация', 0.7872468829154968),\n",
              " ('письменный_перевод', 0.7849993109703064),\n",
              " ('организация_мероприятие', 0.7836333513259888),\n",
              " ('преподаватель', 0.7812851071357727),\n",
              " ('powerpoint', 0.7710280418395996)]"
            ]
          },
          "metadata": {},
          "execution_count": 162
        }
      ],
      "source": [
        "w2v_model_skills.wv.most_similar(positive=['английский'], topn=10)"
      ]
    },
    {
      "cell_type": "code",
      "execution_count": 163,
      "metadata": {
        "id": "rQJAt5Sx6EGl"
      },
      "outputs": [],
      "source": [
        "skill_vectors = w2v_model_skills.wv"
      ]
    },
    {
      "cell_type": "code",
      "execution_count": 164,
      "metadata": {
        "colab": {
          "base_uri": "https://localhost:8080/"
        },
        "id": "xqvoEvR96D_E",
        "outputId": "5e001040-d8c9-497e-e51c-3b5862d11a19"
      },
      "outputs": [
        {
          "output_type": "stream",
          "name": "stderr",
          "text": [
            "100%|██████████| 16629/16629 [00:01<00:00, 10297.68it/s]\n"
          ]
        }
      ],
      "source": [
        "skill_vectors_train = []\n",
        "row = 0\n",
        "\n",
        "for doc in tqdm(trigram_sk[train_skills]):\n",
        "    res = np.zeros(64)\n",
        "    cnt = 0\n",
        "    for word in doc:\n",
        "        if skill_vectors.__contains__(word):\n",
        "            try:\n",
        "              res += w2v_model_skills.wv[word] *np.sqrt(dic_tf_sk_train[word])\n",
        "            except:\n",
        "              res += w2v_model_skills.wv[word]\n",
        "            cnt += 1\n",
        "    if cnt != 0:\n",
        "        res /= cnt\n",
        "    skill_vectors_train.append(res)\n",
        "\n",
        "skill_vectors_train = np.array(skill_vectors_train)"
      ]
    },
    {
      "cell_type": "code",
      "execution_count": 165,
      "metadata": {
        "colab": {
          "base_uri": "https://localhost:8080/"
        },
        "id": "HSMokNoR6t-e",
        "outputId": "7e37a5c3-6b8e-464d-8a78-1448c820d52d"
      },
      "outputs": [
        {
          "output_type": "stream",
          "name": "stderr",
          "text": [
            "100%|██████████| 5543/5543 [00:00<00:00, 8432.91it/s]\n"
          ]
        }
      ],
      "source": [
        "skill_vectors_test = []\n",
        "row = 0\n",
        "\n",
        "for doc in tqdm(trigram_sk[test_skills]):\n",
        "    res = np.zeros(64)\n",
        "    cnt = 0\n",
        "    for word in doc:\n",
        "      if skill_vectors.__contains__(word):\n",
        "            try:\n",
        "              res += w2v_model_skills.wv[word] * np.sqrt(dic_tf_sk_test[word])\n",
        "            except:\n",
        "              res += w2v_model_skills.wv[word]\n",
        "            cnt += 1\n",
        "      if cnt != 0:\n",
        "          res /= cnt\n",
        "    skill_vectors_test.append(res)\n",
        "\n",
        "skill_vectors_test = np.array(skill_vectors_test)"
      ]
    },
    {
      "cell_type": "code",
      "execution_count": 166,
      "metadata": {
        "colab": {
          "base_uri": "https://localhost:8080/"
        },
        "id": "NKSGivDiUJjX",
        "outputId": "ecfaec91-f901-4fa9-b1dc-25bfcae19124"
      },
      "outputs": [
        {
          "output_type": "execute_result",
          "data": {
            "text/plain": [
              "(5543, 64)"
            ]
          },
          "metadata": {},
          "execution_count": 166
        }
      ],
      "source": [
        "skill_vectors_test.shape"
      ]
    },
    {
      "cell_type": "markdown",
      "metadata": {
        "id": "k4beEdWR3KyK"
      },
      "source": [
        "### Cтекаю все вектора вместе"
      ]
    },
    {
      "cell_type": "code",
      "execution_count": 193,
      "metadata": {
        "id": "eoKHDItB3Jyl"
      },
      "outputs": [],
      "source": [
        "lg_train = clean_train.drop(['text', 'cleaned', 'skills' ], axis = 1)\n",
        "lg_test = clean_test.drop(['text', 'cleaned', 'skills'], axis = 1)"
      ]
    },
    {
      "cell_type": "code",
      "execution_count": 258,
      "metadata": {
        "id": "smDfOU2UoFKY"
      },
      "outputs": [],
      "source": [
        "lg_train = pd.get_dummies(lg_train, columns = ['experience', 'schedule', 'employment'], drop_first = False)\n",
        "lg_test = pd.get_dummies(lg_test, columns = ['experience', 'schedule', 'employment'], drop_first = False)"
      ]
    },
    {
      "cell_type": "code",
      "execution_count": 259,
      "metadata": {
        "id": "pjMRFzaW2tWN"
      },
      "outputs": [],
      "source": [
        "vector_test = np.concatenate((doc_vectors_test,\n",
        "                              skill_vectors_test,\n",
        "                              lg_test.to_numpy()), axis=1)\n",
        "vector_train = np.concatenate((doc_vectors_train,\n",
        "                              skill_vectors_train,\n",
        "                              lg_train.to_numpy()\n",
        "                               ), axis=1)"
      ]
    },
    {
      "cell_type": "code",
      "execution_count": 196,
      "metadata": {
        "colab": {
          "base_uri": "https://localhost:8080/"
        },
        "id": "mNGAEC_m3eLc",
        "outputId": "dc80632c-2fea-41f1-e77b-2c6b0fdca527"
      },
      "outputs": [
        {
          "output_type": "execute_result",
          "data": {
            "text/plain": [
              "(5543, 367)"
            ]
          },
          "metadata": {},
          "execution_count": 196
        }
      ],
      "source": [
        "vector_test.shape"
      ]
    },
    {
      "cell_type": "code",
      "execution_count": 197,
      "metadata": {
        "colab": {
          "base_uri": "https://localhost:8080/"
        },
        "id": "PPyjZf0-nJ3W",
        "outputId": "c87bdca7-d02e-417b-d003-696c6367ca27"
      },
      "outputs": [
        {
          "output_type": "execute_result",
          "data": {
            "text/plain": [
              "(16629, 367)"
            ]
          },
          "metadata": {},
          "execution_count": 197
        }
      ],
      "source": [
        "vector_train.shape"
      ]
    },
    {
      "cell_type": "markdown",
      "metadata": {
        "id": "tQyiCdFgVo0w"
      },
      "source": [
        "# Fit & Predict"
      ]
    },
    {
      "cell_type": "code",
      "execution_count": 176,
      "metadata": {
        "id": "AeLmESPRxGpf"
      },
      "outputs": [],
      "source": [
        "from sklearn.metrics import r2_score\n",
        "import pickle\n",
        "from sklearn.ensemble import RandomForestRegressor\n",
        "from sklearn.model_selection import train_test_split\n",
        "from lightgbm import LGBMRegressor"
      ]
    },
    {
      "cell_type": "code",
      "execution_count": null,
      "metadata": {
        "id": "KpcPKkkzzucO"
      },
      "outputs": [],
      "source": [
        "df_train.head()"
      ]
    },
    {
      "cell_type": "code",
      "execution_count": 181,
      "metadata": {
        "id": "Q4ov4WZVzmtp"
      },
      "outputs": [],
      "source": [
        "df_train['target'] = np.log(df_train.salary)"
      ]
    },
    {
      "cell_type": "code",
      "execution_count": 262,
      "metadata": {
        "id": "nl-S3ocf56Gj"
      },
      "outputs": [],
      "source": [
        "X_train, X_test, y_train, y_test = train_test_split(vector_train, df_train.target.astype(float), test_size = 0.2, shuffle = True)"
      ]
    },
    {
      "cell_type": "code",
      "execution_count": 263,
      "metadata": {
        "colab": {
          "base_uri": "https://localhost:8080/",
          "height": 72
        },
        "id": "upD50P7g5zdU",
        "outputId": "99d0e947-4d67-4b69-d9e7-570e32b7d22f"
      },
      "outputs": [
        {
          "output_type": "execute_result",
          "data": {
            "text/plain": [
              "LGBMRegressor()"
            ],
            "text/html": [
              "<style>#sk-container-id-8 {color: black;background-color: white;}#sk-container-id-8 pre{padding: 0;}#sk-container-id-8 div.sk-toggleable {background-color: white;}#sk-container-id-8 label.sk-toggleable__label {cursor: pointer;display: block;width: 100%;margin-bottom: 0;padding: 0.3em;box-sizing: border-box;text-align: center;}#sk-container-id-8 label.sk-toggleable__label-arrow:before {content: \"▸\";float: left;margin-right: 0.25em;color: #696969;}#sk-container-id-8 label.sk-toggleable__label-arrow:hover:before {color: black;}#sk-container-id-8 div.sk-estimator:hover label.sk-toggleable__label-arrow:before {color: black;}#sk-container-id-8 div.sk-toggleable__content {max-height: 0;max-width: 0;overflow: hidden;text-align: left;background-color: #f0f8ff;}#sk-container-id-8 div.sk-toggleable__content pre {margin: 0.2em;color: black;border-radius: 0.25em;background-color: #f0f8ff;}#sk-container-id-8 input.sk-toggleable__control:checked~div.sk-toggleable__content {max-height: 200px;max-width: 100%;overflow: auto;}#sk-container-id-8 input.sk-toggleable__control:checked~label.sk-toggleable__label-arrow:before {content: \"▾\";}#sk-container-id-8 div.sk-estimator input.sk-toggleable__control:checked~label.sk-toggleable__label {background-color: #d4ebff;}#sk-container-id-8 div.sk-label input.sk-toggleable__control:checked~label.sk-toggleable__label {background-color: #d4ebff;}#sk-container-id-8 input.sk-hidden--visually {border: 0;clip: rect(1px 1px 1px 1px);clip: rect(1px, 1px, 1px, 1px);height: 1px;margin: -1px;overflow: hidden;padding: 0;position: absolute;width: 1px;}#sk-container-id-8 div.sk-estimator {font-family: monospace;background-color: #f0f8ff;border: 1px dotted black;border-radius: 0.25em;box-sizing: border-box;margin-bottom: 0.5em;}#sk-container-id-8 div.sk-estimator:hover {background-color: #d4ebff;}#sk-container-id-8 div.sk-parallel-item::after {content: \"\";width: 100%;border-bottom: 1px solid gray;flex-grow: 1;}#sk-container-id-8 div.sk-label:hover label.sk-toggleable__label {background-color: #d4ebff;}#sk-container-id-8 div.sk-serial::before {content: \"\";position: absolute;border-left: 1px solid gray;box-sizing: border-box;top: 0;bottom: 0;left: 50%;z-index: 0;}#sk-container-id-8 div.sk-serial {display: flex;flex-direction: column;align-items: center;background-color: white;padding-right: 0.2em;padding-left: 0.2em;position: relative;}#sk-container-id-8 div.sk-item {position: relative;z-index: 1;}#sk-container-id-8 div.sk-parallel {display: flex;align-items: stretch;justify-content: center;background-color: white;position: relative;}#sk-container-id-8 div.sk-item::before, #sk-container-id-8 div.sk-parallel-item::before {content: \"\";position: absolute;border-left: 1px solid gray;box-sizing: border-box;top: 0;bottom: 0;left: 50%;z-index: -1;}#sk-container-id-8 div.sk-parallel-item {display: flex;flex-direction: column;z-index: 1;position: relative;background-color: white;}#sk-container-id-8 div.sk-parallel-item:first-child::after {align-self: flex-end;width: 50%;}#sk-container-id-8 div.sk-parallel-item:last-child::after {align-self: flex-start;width: 50%;}#sk-container-id-8 div.sk-parallel-item:only-child::after {width: 0;}#sk-container-id-8 div.sk-dashed-wrapped {border: 1px dashed gray;margin: 0 0.4em 0.5em 0.4em;box-sizing: border-box;padding-bottom: 0.4em;background-color: white;}#sk-container-id-8 div.sk-label label {font-family: monospace;font-weight: bold;display: inline-block;line-height: 1.2em;}#sk-container-id-8 div.sk-label-container {text-align: center;}#sk-container-id-8 div.sk-container {/* jupyter's `normalize.less` sets `[hidden] { display: none; }` but bootstrap.min.css set `[hidden] { display: none !important; }` so we also need the `!important` here to be able to override the default hidden behavior on the sphinx rendered scikit-learn.org. See: https://github.com/scikit-learn/scikit-learn/issues/21755 */display: inline-block !important;position: relative;}#sk-container-id-8 div.sk-text-repr-fallback {display: none;}</style><div id=\"sk-container-id-8\" class=\"sk-top-container\"><div class=\"sk-text-repr-fallback\"><pre>LGBMRegressor()</pre><b>In a Jupyter environment, please rerun this cell to show the HTML representation or trust the notebook. <br />On GitHub, the HTML representation is unable to render, please try loading this page with nbviewer.org.</b></div><div class=\"sk-container\" hidden><div class=\"sk-item\"><div class=\"sk-estimator sk-toggleable\"><input class=\"sk-toggleable__control sk-hidden--visually\" id=\"sk-estimator-id-8\" type=\"checkbox\" checked><label for=\"sk-estimator-id-8\" class=\"sk-toggleable__label sk-toggleable__label-arrow\">LGBMRegressor</label><div class=\"sk-toggleable__content\"><pre>LGBMRegressor()</pre></div></div></div></div></div>"
            ]
          },
          "metadata": {},
          "execution_count": 263
        }
      ],
      "source": [
        "model = LGBMRegressor()\n",
        "model.fit(X_train, y_train)"
      ]
    },
    {
      "cell_type": "code",
      "execution_count": 267,
      "metadata": {
        "id": "bHBkuO8u1HfQ"
      },
      "outputs": [],
      "source": [
        "pred = model.predict(X_test)"
      ]
    },
    {
      "cell_type": "code",
      "source": [
        "r2_score(y_test, pred)"
      ],
      "metadata": {
        "colab": {
          "base_uri": "https://localhost:8080/"
        },
        "id": "mt4LWatRh9KD",
        "outputId": "b5482613-9115-421d-aeb2-e938d11ba5ba"
      },
      "execution_count": 265,
      "outputs": [
        {
          "output_type": "execute_result",
          "data": {
            "text/plain": [
              "0.500443754080726"
            ]
          },
          "metadata": {},
          "execution_count": 265
        }
      ]
    },
    {
      "cell_type": "markdown",
      "metadata": {
        "id": "h-tcJqBNxaSi"
      },
      "source": [
        "# BertRegressor"
      ]
    },
    {
      "cell_type": "code",
      "execution_count": null,
      "metadata": {
        "id": "UH-U15UGyW9Q"
      },
      "outputs": [],
      "source": [
        "!pip install transformers"
      ]
    },
    {
      "cell_type": "code",
      "execution_count": null,
      "metadata": {
        "id": "IabSnzDZrmKT"
      },
      "outputs": [],
      "source": [
        "!pip install datasets"
      ]
    },
    {
      "cell_type": "code",
      "execution_count": null,
      "metadata": {
        "id": "K15Rmvqw3JUo"
      },
      "outputs": [],
      "source": [
        "import torch\n",
        "import torch.nn as nn\n",
        "import torch.optim as optim\n",
        "import torch.nn.functional as F\n",
        "from torch.utils.data import Dataset, DataLoader\n",
        "\n",
        "from transformers import BertPreTrainedModel, BertModel\n",
        "from transformers import AutoConfig, AutoTokenizer\n",
        "\n",
        "from sklearn import metrics\n",
        "from sklearn.model_selection import train_test_split\n",
        "from tqdm import tqdm, trange"
      ]
    },
    {
      "cell_type": "code",
      "execution_count": null,
      "metadata": {
        "id": "UiyLX0At3eFs"
      },
      "outputs": [],
      "source": [
        "import os"
      ]
    },
    {
      "cell_type": "code",
      "execution_count": null,
      "metadata": {
        "id": "OM14Ar6cy8nc"
      },
      "outputs": [],
      "source": [
        "# pip install transformers sentencepiece\n",
        "import torch\n",
        "from transformers import AutoTokenizer, AutoModelForSequenceClassification, AutoModelForPreTraining"
      ]
    },
    {
      "cell_type": "code",
      "execution_count": null,
      "metadata": {
        "id": "v19b5D1KzCNz"
      },
      "outputs": [],
      "source": [
        "from sklearn.metrics import mean_absolute_error\n",
        "from sklearn.metrics import mean_squared_error\n",
        "from sklearn.metrics import r2_score\n",
        "\n",
        "def compute_metrics_for_regression(eval_pred):\n",
        "    logits, labels = eval_pred\n",
        "    labels = labels.reshape(-1, 1)\n",
        "    \n",
        "    mse = mean_squared_error(labels, logits)\n",
        "    r2 = r2_score(labels, logits)\n",
        "\n",
        "    \n",
        "    return {\"mse\": mse, \"r2\": r2}"
      ]
    },
    {
      "cell_type": "markdown",
      "metadata": {
        "id": "visksueFMq6h"
      },
      "source": [
        "## Data"
      ]
    },
    {
      "cell_type": "code",
      "execution_count": null,
      "metadata": {
        "id": "bNL768UEy19i"
      },
      "outputs": [],
      "source": [
        "for i in clean_train[clean_train['cleaned'].isnull()].index:\n",
        "  clean_train['cleaned'][i] = ' '"
      ]
    },
    {
      "cell_type": "code",
      "execution_count": null,
      "metadata": {
        "id": "zDbxRO890ILF"
      },
      "outputs": [],
      "source": [
        "X_train, X_test, y_train, y_test = train_test_split(clean_train.cleaned, \n",
        "                                                    salary.log10_salary.astype(float), test_size = 0.2)"
      ]
    },
    {
      "cell_type": "code",
      "execution_count": null,
      "metadata": {
        "id": "6CQZ8Zud5izE"
      },
      "outputs": [],
      "source": [
        "train_d = pd.DataFrame()\n",
        "train_d['text'] = X_train\n",
        "train_d['target'] = y_train\n",
        "\n",
        "val = pd.DataFrame()\n",
        "val['text'] = X_test\n",
        "val['target'] = y_test"
      ]
    },
    {
      "cell_type": "code",
      "execution_count": null,
      "metadata": {
        "id": "c6zyaeyr4jNX"
      },
      "outputs": [],
      "source": [
        "## Training Dataset\n",
        "train_set = Ex_Dataset(data=train_d, maxlen=MAX_LEN_TRAIN, tokenizer=tokenizer)\n",
        "valid_set = Ex_Dataset(data=val, maxlen=MAX_LEN_VALID, tokenizer=tokenizer)\n",
        "\n",
        "## Data Loaders\n",
        "train_loader = DataLoader(dataset=train_set, batch_size=BATCH_SIZE, num_workers=NUM_THREADS)\n",
        "valid_loader = DataLoader(dataset=valid_set, batch_size=BATCH_SIZE, num_workers=NUM_THREADS)\n",
        "\n",
        "# print(len(train_loader))"
      ]
    },
    {
      "cell_type": "code",
      "execution_count": null,
      "metadata": {
        "colab": {
          "base_uri": "https://localhost:8080/"
        },
        "id": "LCIa4TWQ6ZaJ",
        "outputId": "79ead857-0b6b-4073-f9c6-0ba166e45fd7"
      },
      "outputs": [
        {
          "data": {
            "text/plain": [
              "<torch.utils.data.dataloader.DataLoader at 0x7ff2f4af32b0>"
            ]
          },
          "execution_count": 173,
          "metadata": {},
          "output_type": "execute_result"
        }
      ],
      "source": [
        "train_loader"
      ]
    },
    {
      "cell_type": "code",
      "execution_count": null,
      "metadata": {
        "id": "BuC71D724jIo"
      },
      "outputs": [],
      "source": [
        "train(model=model, \n",
        "      criterion=criterion,\n",
        "      optimizer=optimizer, \n",
        "      train_loader=train_loader,\n",
        "      val_loader=valid_loader,\n",
        "      epochs = 10,\n",
        "      device = device)"
      ]
    },
    {
      "cell_type": "markdown",
      "metadata": {
        "id": "eaRsz026mSCe"
      },
      "source": [
        "## Модель"
      ]
    },
    {
      "cell_type": "code",
      "execution_count": null,
      "metadata": {
        "id": "kSNyIZpS_8K_"
      },
      "outputs": [],
      "source": [
        "from transformers import BertPreTrainedModel, BertModel"
      ]
    },
    {
      "cell_type": "code",
      "execution_count": null,
      "metadata": {
        "id": "H1tiRJQfX6lp"
      },
      "outputs": [],
      "source": [
        "from transformers import AutoTokenizer, AutoModel\n",
        "tokenizer = AutoTokenizer.from_pretrained(\"cointegrated/rubert-tiny\")\n",
        "model = AutoModel.from_pretrained(\"cointegrated/rubert-tiny\")\n",
        "\n",
        "def embed_bert_cls(text, model, tokenizer):\n",
        "    t = tokenizer(text, padding=True, truncation=True, return_tensors='pt')\n",
        "    with torch.no_grad():\n",
        "        model_output = model(**{k: v.to(model.device) for k, v in t.items()})\n",
        "    embeddings = model_output.last_hidden_state[:, 0, :]\n",
        "    embeddings = torch.nn.functional.normalize(embeddings)\n",
        "    return embeddings[0].cpu().numpy()\n",
        "\n",
        "print(embed_bert_cls('привет мир', model, tokenizer).shape)"
      ]
    },
    {
      "cell_type": "code",
      "execution_count": null,
      "metadata": {
        "id": "jwI5iSav3dZ4"
      },
      "outputs": [],
      "source": [
        "class Ex_Dataset(Dataset):\n",
        "\n",
        "    def __init__(self, data, maxlen, tokenizer): \n",
        "        #Store the contents of the file in a pandas dataframe\n",
        "        self.df = data.reset_index()\n",
        "        #Initialize the tokenizer for the desired transformer model\n",
        "        self.tokenizer = tokenizer\n",
        "        #Maximum length of the tokens list to keep all the sequences of fixed size\n",
        "        self.maxlen = maxlen\n",
        "\n",
        "    def __len__(self):\n",
        "        return self.df.shape[0]\n",
        "\n",
        "    def __getitem__(self, index):    \n",
        "        #Select the sentence and label at the specified index in the data frame\n",
        "        excerpt = self.df.loc[index, 'text']\n",
        "        try:\n",
        "            target = self.df.loc[index, 'y']\n",
        "        except:\n",
        "            target = 0.0\n",
        "        identifier = self.df.index\n",
        "        #Preprocess the text to be suitable for the transformer\n",
        "        tokens = self.tokenizer.tokenize(excerpt, truncation = True, padding = True) \n",
        "        tokens = ['[CLS]'] + tokens + ['[SEP]'] \n",
        "        if len(tokens) < self.maxlen:\n",
        "            tokens = tokens + ['[PAD]' for _ in range(self.maxlen - len(tokens))] \n",
        "        else:\n",
        "            tokens = tokens[:self.maxlen-1] + ['[SEP]'] \n",
        "        #Obtain the indices of the tokens in the BERT Vocabulary\n",
        "        input_ids = self.tokenizer.convert_tokens_to_ids(tokens) \n",
        "        input_ids = torch.tensor(input_ids) \n",
        "        #Obtain the attention mask i.e a tensor containing 1s for no padded tokens and 0s for padded ones\n",
        "        attention_mask = (input_ids != 0).long()\n",
        "        \n",
        "        target = torch.tensor(target, dtype=torch.float32)\n",
        "        \n",
        "        return input_ids, attention_mask, target"
      ]
    },
    {
      "cell_type": "code",
      "execution_count": null,
      "metadata": {
        "id": "94TpJ7U73cov"
      },
      "outputs": [],
      "source": [
        "class BertRegresser(BertPreTrainedModel):\n",
        "    def __init__(self, config):\n",
        "        super().__init__(config)\n",
        "        self.bert = BertModel(config)\n",
        "        #The output layer that takes the [CLS] representation and gives an output\n",
        "        self.cls_layer1 = nn.Linear(config.hidden_size,128)\n",
        "        self.relu1 = nn.ReLU()\n",
        "        self.ff1 = nn.Linear(128,128)\n",
        "        self.tanh1 = nn.Tanh()\n",
        "        self.ff2 = nn.Linear(128,1)\n",
        "\n",
        "    def forward(self, input_ids, attention_mask):\n",
        "        #Feed the input to Bert model to obtain contextualized representations\n",
        "        outputs = self.bert(input_ids=input_ids, attention_mask=attention_mask)\n",
        "        #Obtain the representations of [CLS] heads\n",
        "        logits = outputs.last_hidden_state[:,0,:]\n",
        "        output = self.cls_layer1(logits)\n",
        "        output = self.relu1(output)\n",
        "        output = self.ff1(output)\n",
        "        output = self.tanh1(output)\n",
        "        output = self.ff2(output)\n",
        "        return output"
      ]
    },
    {
      "cell_type": "code",
      "execution_count": null,
      "metadata": {
        "id": "4n2viWkHOlQd"
      },
      "outputs": [],
      "source": [
        "from tqdm import tqdm"
      ]
    },
    {
      "cell_type": "code",
      "execution_count": null,
      "metadata": {
        "id": "HV9_p6QQ3r26"
      },
      "outputs": [],
      "source": [
        "def train(model, criterion, optimizer, train_loader, val_loader, epochs, device):\n",
        "    best_acc = 0\n",
        "    for epoch in trange(epochs, desc=\"Epoch\"):\n",
        "        model.train()\n",
        "        train_loss = 0\n",
        "        for i, (input_ids, attention_mask, target) in tqdm(enumerate(iterable=train_loader)):\n",
        "            optimizer.zero_grad()  \n",
        "            \n",
        "            input_ids, attention_mask, target = input_ids.to(device), attention_mask.to(device), target.to(device)\n",
        "            \n",
        "            output = model(input_ids=input_ids, attention_mask=attention_mask)\n",
        "            \n",
        "            loss = criterion(output, target.type_as(output))\n",
        "            loss.backward()\n",
        "            optimizer.step()\n",
        "            \n",
        "            train_loss += loss.item()\n",
        "        \n",
        "        print(f\"Training loss is {train_loss/len(train_loader)}\")\n",
        "        val_loss = evaluate(model=model, criterion=criterion, dataloader=val_loader, device=device)\n",
        "        print(\"Epoch {} complete! Validation Loss : {}\".format(epoch, val_loss))"
      ]
    },
    {
      "cell_type": "code",
      "execution_count": null,
      "metadata": {
        "id": "CNwDaIhp31hL"
      },
      "outputs": [],
      "source": [
        "def evaluate(model, criterion, dataloader, device):\n",
        "    model.eval()\n",
        "    mean_acc, mean_loss, count = 0, 0, 0\n",
        "\n",
        "    with torch.no_grad():\n",
        "        for input_ids, attention_mask, target in (dataloader):\n",
        "            \n",
        "            input_ids, attention_mask, target = input_ids.to(device), attention_mask.to(device), target.to(device)\n",
        "            output = model(input_ids, attention_mask)\n",
        "            \n",
        "            mean_loss += criterion(output, target.type_as(output)).item()\n",
        "            count += 1\n",
        "            \n",
        "    return mean_loss/count"
      ]
    },
    {
      "cell_type": "code",
      "execution_count": null,
      "metadata": {
        "id": "AW6VhRuu3-y4"
      },
      "outputs": [],
      "source": [
        "def predict(model, dataloader, device):\n",
        "    predicted_label = []\n",
        "    actual_label = []\n",
        "    with torch.no_grad():\n",
        "        for input_ids, attention_mask, target in (dataloader):\n",
        "            \n",
        "            input_ids, attention_mask, target = input_ids.to(device), attention_mask.to(device), target.to(device)\n",
        "            output = model(input_ids, attention_mask)\n",
        "                        \n",
        "            predicted_label += output\n",
        "            actual_label += target\n",
        "            \n",
        "    return predicted_label"
      ]
    },
    {
      "cell_type": "code",
      "execution_count": null,
      "metadata": {
        "id": "ZYX7TGna3Vh8"
      },
      "outputs": [],
      "source": [
        "MODEL_OUT_DIR = '/content/bert_regressor'\n",
        "## Model Configurations\n",
        "MAX_LEN_TRAIN = 512\n",
        "MAX_LEN_VALID = 512\n",
        "MAX_LEN_TEST = 512\n",
        "BATCH_SIZE = 64\n",
        "LR = 1e-3\n",
        "NUM_EPOCHS = 10\n",
        "NUM_THREADS = 1  ## Number of threads for collecting dataset\n",
        "MODEL_NAME = 'cointegrated/rubert-tiny'\n",
        "\n",
        "if not os.path.isdir(MODEL_OUT_DIR):\n",
        "    os.makedirs(MODEL_OUT_DIR)"
      ]
    },
    {
      "cell_type": "code",
      "execution_count": null,
      "metadata": {
        "id": "q8X4-TkM4CpT"
      },
      "outputs": [],
      "source": [
        "## Configuration loaded from AutoConfig \n",
        "config = AutoConfig.from_pretrained(MODEL_NAME)\n",
        "## Tokenizer loaded from AutoTokenizer\n",
        "tokenizer = AutoTokenizer.from_pretrained(MODEL_NAME, truncation = True, padding=True)\n",
        "## Creating the model from the desired transformer model\n",
        "model = BertRegresser.from_pretrained(MODEL_NAME, config=config)\n",
        "for param in model.bert.parameters():\n",
        "    param.requires_grad = False\n",
        "## GPU or CPU\n",
        "device = torch.device(\"cuda:0\" if torch.cuda.is_available() else \"cpu\")\n",
        "## Putting model to device\n",
        "model = model.to(device)\n",
        "## Takes as the input the logits of the positive class and computes the binary cross-entropy \n",
        "# criterion = nn.BCEWithLogitsLoss()\n",
        "criterion = nn.MSELoss()\n",
        "## Optimizer\n",
        "optimizer = optim.Adam(params=model.parameters(), lr=LR)"
      ]
    },
    {
      "cell_type": "code",
      "execution_count": null,
      "metadata": {
        "id": "aap1fxlobnax"
      },
      "outputs": [],
      "source": [
        "train(model=model, \n",
        "      criterion=criterion,\n",
        "      optimizer=optimizer, \n",
        "      train_loader=train_loader,\n",
        "      val_loader=valid_loader,\n",
        "      epochs = 10,\n",
        "      device = device)"
      ]
    },
    {
      "cell_type": "markdown",
      "metadata": {
        "id": "xrr0BzIlUqRy"
      },
      "source": [
        "# Predict"
      ]
    },
    {
      "cell_type": "code",
      "source": [
        "pred = np.exp(pred)"
      ],
      "metadata": {
        "id": "ItQlE6WctOyi"
      },
      "execution_count": 269,
      "outputs": []
    },
    {
      "cell_type": "code",
      "execution_count": 271,
      "metadata": {
        "id": "NkdJXVh4xYVH"
      },
      "outputs": [],
      "source": [
        "predictions = pd.DataFrame({'id': clean_test.index,\n",
        "                            'salary': pred})\n",
        "predictions.to_csv('my_submission17.csv', index=False)"
      ]
    },
    {
      "cell_type": "code",
      "execution_count": null,
      "metadata": {
        "id": "eI8TxN8AwTH7"
      },
      "outputs": [],
      "source": [
        "predictions = pd.read_csv('my_submission13.csv', sep = ';')\n",
        "predictions.to_csv('my_submission14.csv', index=False)"
      ]
    }
  ],
  "metadata": {
    "colab": {
      "provenance": [],
      "toc_visible": true
    },
    "gpuClass": "standard",
    "kernelspec": {
      "display_name": "Python 3",
      "name": "python3"
    },
    "language_info": {
      "name": "python"
    }
  },
  "nbformat": 4,
  "nbformat_minor": 0
}